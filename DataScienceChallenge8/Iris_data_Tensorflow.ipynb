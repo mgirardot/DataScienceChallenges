{
 "cells": [
  {
   "cell_type": "code",
   "execution_count": 1,
   "metadata": {
    "collapsed": true
   },
   "outputs": [],
   "source": [
    "from __future__ import absolute_import\n",
    "from __future__ import division\n",
    "from __future__ import print_function\n",
    "\n",
    "import os\n",
    "import urllib\n",
    "\n",
    "import tensorflow as tf\n",
    "import numpy as np\n",
    "\n",
    "IRIS_TRAINING = \"iris_training.csv\"\n",
    "IRIS_TRAINING_URL = \"http://download.tensorflow.org/data/iris_training.csv\"\n",
    "\n",
    "IRIS_TEST = \"iris_test.csv\"\n",
    "IRIS_TEST_URL = \"http://download.tensorflow.org/data/iris_test.csv\""
   ]
  },
  {
   "cell_type": "markdown",
   "metadata": {},
   "source": [
    "## Download the data"
   ]
  },
  {
   "cell_type": "code",
   "execution_count": 3,
   "metadata": {
    "collapsed": true
   },
   "outputs": [],
   "source": [
    "if not os.path.exists(IRIS_TRAINING):\n",
    "  raw = urllib.urlopen(IRIS_TRAINING_URL).read()\n",
    "  with open(IRIS_TRAINING,'w') as f:\n",
    "    f.write(raw)\n",
    "\n",
    "if not os.path.exists(IRIS_TEST):\n",
    "  raw = urllib.urlopen(IRIS_TEST_URL).read()\n",
    "  with open(IRIS_TEST,'w') as f:\n",
    "    f.write(raw)"
   ]
  },
  {
   "cell_type": "markdown",
   "metadata": {},
   "source": [
    "## Load from disk"
   ]
  },
  {
   "cell_type": "code",
   "execution_count": 4,
   "metadata": {
    "collapsed": true
   },
   "outputs": [],
   "source": [
    "training_set = tf.contrib.learn.datasets.base.load_csv_with_header(\n",
    "    filename = IRIS_TRAINING,\n",
    "    target_dtype = np.int,\n",
    "    features_dtype = np.float32\n",
    ")\n",
    "\n",
    "test_set = tf.contrib.learn.datasets.base.load_csv_with_header(\n",
    "    filename = IRIS_TEST,\n",
    "    target_dtype = np.int,\n",
    "    features_dtype = np.float32\n",
    ")"
   ]
  },
  {
   "cell_type": "code",
   "execution_count": 5,
   "metadata": {},
   "outputs": [
    {
     "data": {
      "text/plain": [
       "Dataset(data=array([[ 6.4000001 ,  2.79999995,  5.5999999 ,  2.20000005],\n",
       "       [ 5.        ,  2.29999995,  3.29999995,  1.        ],\n",
       "       [ 4.9000001 ,  2.5       ,  4.5       ,  1.70000005],\n",
       "       [ 4.9000001 ,  3.0999999 ,  1.5       ,  0.1       ],\n",
       "       [ 5.69999981,  3.79999995,  1.70000005,  0.30000001],\n",
       "       [ 4.4000001 ,  3.20000005,  1.29999995,  0.2       ],\n",
       "       [ 5.4000001 ,  3.4000001 ,  1.5       ,  0.40000001],\n",
       "       [ 6.9000001 ,  3.0999999 ,  5.0999999 ,  2.29999995],\n",
       "       [ 6.69999981,  3.0999999 ,  4.4000001 ,  1.39999998],\n",
       "       [ 5.0999999 ,  3.70000005,  1.5       ,  0.40000001],\n",
       "       [ 5.19999981,  2.70000005,  3.9000001 ,  1.39999998],\n",
       "       [ 6.9000001 ,  3.0999999 ,  4.9000001 ,  1.5       ],\n",
       "       [ 5.80000019,  4.        ,  1.20000005,  0.2       ],\n",
       "       [ 5.4000001 ,  3.9000001 ,  1.70000005,  0.40000001],\n",
       "       [ 7.69999981,  3.79999995,  6.69999981,  2.20000005],\n",
       "       [ 6.30000019,  3.29999995,  4.69999981,  1.60000002],\n",
       "       [ 6.80000019,  3.20000005,  5.9000001 ,  2.29999995],\n",
       "       [ 7.5999999 ,  3.        ,  6.5999999 ,  2.0999999 ],\n",
       "       [ 6.4000001 ,  3.20000005,  5.30000019,  2.29999995],\n",
       "       [ 5.69999981,  4.4000001 ,  1.5       ,  0.40000001],\n",
       "       [ 6.69999981,  3.29999995,  5.69999981,  2.0999999 ],\n",
       "       [ 6.4000001 ,  2.79999995,  5.5999999 ,  2.0999999 ],\n",
       "       [ 5.4000001 ,  3.9000001 ,  1.29999995,  0.40000001],\n",
       "       [ 6.0999999 ,  2.5999999 ,  5.5999999 ,  1.39999998],\n",
       "       [ 7.19999981,  3.        ,  5.80000019,  1.60000002],\n",
       "       [ 5.19999981,  3.5       ,  1.5       ,  0.2       ],\n",
       "       [ 5.80000019,  2.5999999 ,  4.        ,  1.20000005],\n",
       "       [ 5.9000001 ,  3.        ,  5.0999999 ,  1.79999995],\n",
       "       [ 5.4000001 ,  3.        ,  4.5       ,  1.5       ],\n",
       "       [ 6.69999981,  3.        ,  5.        ,  1.70000005],\n",
       "       [ 6.30000019,  2.29999995,  4.4000001 ,  1.29999995],\n",
       "       [ 5.0999999 ,  2.5       ,  3.        ,  1.10000002],\n",
       "       [ 6.4000001 ,  3.20000005,  4.5       ,  1.5       ],\n",
       "       [ 6.80000019,  3.        ,  5.5       ,  2.0999999 ],\n",
       "       [ 6.19999981,  2.79999995,  4.80000019,  1.79999995],\n",
       "       [ 6.9000001 ,  3.20000005,  5.69999981,  2.29999995],\n",
       "       [ 6.5       ,  3.20000005,  5.0999999 ,  2.        ],\n",
       "       [ 5.80000019,  2.79999995,  5.0999999 ,  2.4000001 ],\n",
       "       [ 5.0999999 ,  3.79999995,  1.5       ,  0.30000001],\n",
       "       [ 4.80000019,  3.        ,  1.39999998,  0.30000001],\n",
       "       [ 7.9000001 ,  3.79999995,  6.4000001 ,  2.        ],\n",
       "       [ 5.80000019,  2.70000005,  5.0999999 ,  1.89999998],\n",
       "       [ 6.69999981,  3.        ,  5.19999981,  2.29999995],\n",
       "       [ 5.0999999 ,  3.79999995,  1.89999998,  0.40000001],\n",
       "       [ 4.69999981,  3.20000005,  1.60000002,  0.2       ],\n",
       "       [ 6.        ,  2.20000005,  5.        ,  1.5       ],\n",
       "       [ 4.80000019,  3.4000001 ,  1.60000002,  0.2       ],\n",
       "       [ 7.69999981,  2.5999999 ,  6.9000001 ,  2.29999995],\n",
       "       [ 4.5999999 ,  3.5999999 ,  1.        ,  0.2       ],\n",
       "       [ 7.19999981,  3.20000005,  6.        ,  1.79999995],\n",
       "       [ 5.        ,  3.29999995,  1.39999998,  0.2       ],\n",
       "       [ 6.5999999 ,  3.        ,  4.4000001 ,  1.39999998],\n",
       "       [ 6.0999999 ,  2.79999995,  4.        ,  1.29999995],\n",
       "       [ 5.        ,  3.20000005,  1.20000005,  0.2       ],\n",
       "       [ 7.        ,  3.20000005,  4.69999981,  1.39999998],\n",
       "       [ 6.        ,  3.        ,  4.80000019,  1.79999995],\n",
       "       [ 7.4000001 ,  2.79999995,  6.0999999 ,  1.89999998],\n",
       "       [ 5.80000019,  2.70000005,  5.0999999 ,  1.89999998],\n",
       "       [ 6.19999981,  3.4000001 ,  5.4000001 ,  2.29999995],\n",
       "       [ 5.        ,  2.        ,  3.5       ,  1.        ],\n",
       "       [ 5.5999999 ,  2.5       ,  3.9000001 ,  1.10000002],\n",
       "       [ 6.69999981,  3.0999999 ,  5.5999999 ,  2.4000001 ],\n",
       "       [ 6.30000019,  2.5       ,  5.        ,  1.89999998],\n",
       "       [ 6.4000001 ,  3.0999999 ,  5.5       ,  1.79999995],\n",
       "       [ 6.19999981,  2.20000005,  4.5       ,  1.5       ],\n",
       "       [ 7.30000019,  2.9000001 ,  6.30000019,  1.79999995],\n",
       "       [ 4.4000001 ,  3.        ,  1.29999995,  0.2       ],\n",
       "       [ 7.19999981,  3.5999999 ,  6.0999999 ,  2.5       ],\n",
       "       [ 6.5       ,  3.        ,  5.5       ,  1.79999995],\n",
       "       [ 5.        ,  3.4000001 ,  1.5       ,  0.2       ],\n",
       "       [ 4.69999981,  3.20000005,  1.29999995,  0.2       ],\n",
       "       [ 6.5999999 ,  2.9000001 ,  4.5999999 ,  1.29999995],\n",
       "       [ 5.5       ,  3.5       ,  1.29999995,  0.2       ],\n",
       "       [ 7.69999981,  3.        ,  6.0999999 ,  2.29999995],\n",
       "       [ 6.0999999 ,  3.        ,  4.9000001 ,  1.79999995],\n",
       "       [ 4.9000001 ,  3.0999999 ,  1.5       ,  0.1       ],\n",
       "       [ 5.5       ,  2.4000001 ,  3.79999995,  1.10000002],\n",
       "       [ 5.69999981,  2.9000001 ,  4.19999981,  1.29999995],\n",
       "       [ 6.        ,  2.9000001 ,  4.5       ,  1.5       ],\n",
       "       [ 6.4000001 ,  2.70000005,  5.30000019,  1.89999998],\n",
       "       [ 5.4000001 ,  3.70000005,  1.5       ,  0.2       ],\n",
       "       [ 6.0999999 ,  2.9000001 ,  4.69999981,  1.39999998],\n",
       "       [ 6.5       ,  2.79999995,  4.5999999 ,  1.5       ],\n",
       "       [ 5.5999999 ,  2.70000005,  4.19999981,  1.29999995],\n",
       "       [ 6.30000019,  3.4000001 ,  5.5999999 ,  2.4000001 ],\n",
       "       [ 4.9000001 ,  3.0999999 ,  1.5       ,  0.1       ],\n",
       "       [ 6.80000019,  2.79999995,  4.80000019,  1.39999998],\n",
       "       [ 5.69999981,  2.79999995,  4.5       ,  1.29999995],\n",
       "       [ 6.        ,  2.70000005,  5.0999999 ,  1.60000002],\n",
       "       [ 5.        ,  3.5       ,  1.29999995,  0.30000001],\n",
       "       [ 6.5       ,  3.        ,  5.19999981,  2.        ],\n",
       "       [ 6.0999999 ,  2.79999995,  4.69999981,  1.20000005],\n",
       "       [ 5.0999999 ,  3.5       ,  1.39999998,  0.30000001],\n",
       "       [ 4.5999999 ,  3.0999999 ,  1.5       ,  0.2       ],\n",
       "       [ 6.5       ,  3.        ,  5.80000019,  2.20000005],\n",
       "       [ 4.5999999 ,  3.4000001 ,  1.39999998,  0.30000001],\n",
       "       [ 4.5999999 ,  3.20000005,  1.39999998,  0.2       ],\n",
       "       [ 7.69999981,  2.79999995,  6.69999981,  2.        ],\n",
       "       [ 5.9000001 ,  3.20000005,  4.80000019,  1.79999995],\n",
       "       [ 5.0999999 ,  3.79999995,  1.60000002,  0.2       ],\n",
       "       [ 4.9000001 ,  3.        ,  1.39999998,  0.2       ],\n",
       "       [ 4.9000001 ,  2.4000001 ,  3.29999995,  1.        ],\n",
       "       [ 4.5       ,  2.29999995,  1.29999995,  0.30000001],\n",
       "       [ 5.80000019,  2.70000005,  4.0999999 ,  1.        ],\n",
       "       [ 5.        ,  3.4000001 ,  1.60000002,  0.40000001],\n",
       "       [ 5.19999981,  3.4000001 ,  1.39999998,  0.2       ],\n",
       "       [ 5.30000019,  3.70000005,  1.5       ,  0.2       ],\n",
       "       [ 5.        ,  3.5999999 ,  1.39999998,  0.2       ],\n",
       "       [ 5.5999999 ,  2.9000001 ,  3.5999999 ,  1.29999995],\n",
       "       [ 4.80000019,  3.0999999 ,  1.60000002,  0.2       ],\n",
       "       [ 6.30000019,  2.70000005,  4.9000001 ,  1.79999995],\n",
       "       [ 5.69999981,  2.79999995,  4.0999999 ,  1.29999995],\n",
       "       [ 5.        ,  3.        ,  1.60000002,  0.2       ],\n",
       "       [ 6.30000019,  3.29999995,  6.        ,  2.5       ],\n",
       "       [ 5.        ,  3.5       ,  1.60000002,  0.60000002],\n",
       "       [ 5.5       ,  2.5999999 ,  4.4000001 ,  1.20000005],\n",
       "       [ 5.69999981,  3.        ,  4.19999981,  1.20000005],\n",
       "       [ 4.4000001 ,  2.9000001 ,  1.39999998,  0.2       ],\n",
       "       [ 4.80000019,  3.        ,  1.39999998,  0.1       ],\n",
       "       [ 5.5       ,  2.4000001 ,  3.70000005,  1.        ]], dtype=float32), target=array([2, 1, 2, 0, 0, 0, 0, 2, 1, 0, 1, 1, 0, 0, 2, 1, 2, 2, 2, 0, 2, 2, 0,\n",
       "       2, 2, 0, 1, 2, 1, 1, 1, 1, 1, 2, 2, 2, 2, 2, 0, 0, 2, 2, 2, 0, 0, 2,\n",
       "       0, 2, 0, 2, 0, 1, 1, 0, 1, 2, 2, 2, 2, 1, 1, 2, 2, 2, 1, 2, 0, 2, 2,\n",
       "       0, 0, 1, 0, 2, 2, 0, 1, 1, 1, 2, 0, 1, 1, 1, 2, 0, 1, 1, 1, 0, 2, 1,\n",
       "       0, 0, 2, 0, 0, 2, 1, 0, 0, 1, 0, 1, 0, 0, 0, 0, 1, 0, 2, 1, 0, 2, 0,\n",
       "       1, 1, 0, 0, 1]))"
      ]
     },
     "execution_count": 5,
     "metadata": {},
     "output_type": "execute_result"
    }
   ],
   "source": [
    "training_set"
   ]
  },
  {
   "cell_type": "markdown",
   "metadata": {},
   "source": [
    "## Construct the nettwork"
   ]
  },
  {
   "cell_type": "code",
   "execution_count": 6,
   "metadata": {},
   "outputs": [
    {
     "name": "stdout",
     "output_type": "stream",
     "text": [
      "INFO:tensorflow:Using default config.\n",
      "INFO:tensorflow:Using config: {'_model_dir': None, '_save_checkpoints_secs': 600, '_num_ps_replicas': 0, '_keep_checkpoint_max': 5, '_tf_random_seed': None, '_task_type': None, '_environment': 'local', '_is_chief': True, '_cluster_spec': <tensorflow.python.training.server_lib.ClusterSpec object at 0x7f6fdfd8a490>, '_tf_config': gpu_options {\n",
      "  per_process_gpu_memory_fraction: 1.0\n",
      "}\n",
      ", '_num_worker_replicas': 0, '_task_id': 0, '_save_summary_steps': 100, '_save_checkpoints_steps': None, '_evaluation_master': '', '_keep_checkpoint_every_n_hours': 10000, '_master': ''}\n"
     ]
    }
   ],
   "source": [
    "feature_columns = [tf.contrib.layers.real_valued_column(\"\", dimension=4)]\n",
    "\n",
    "# A 3 layer DNN with 10, 20, 10 units\n",
    "classifier = tf.contrib.learn.DNNClassifier(feature_columns=feature_columns,\n",
    "                                           hidden_units=[10,20,10],\n",
    "                                           n_classes=3,\n",
    "                                           model_dir=\"/tmp/iris_model\")"
   ]
  },
  {
   "cell_type": "code",
   "execution_count": 7,
   "metadata": {
    "collapsed": true
   },
   "outputs": [],
   "source": [
    "#Define the inputs\n",
    "def get_train_imputs():\n",
    "    x =tf.constant(training_set.data)\n",
    "    y = tf.constant(training_set.target)\n",
    "    return x, y"
   ]
  },
  {
   "cell_type": "code",
   "execution_count": 8,
   "metadata": {},
   "outputs": [
    {
     "name": "stdout",
     "output_type": "stream",
     "text": [
      "WARNING:tensorflow:From /home/michael/.local/lib/python2.7/site-packages/tensorflow/contrib/learn/python/learn/estimators/head.py:615: scalar_summary (from tensorflow.python.ops.logging_ops) is deprecated and will be removed after 2016-11-30.\n",
      "Instructions for updating:\n",
      "Please switch to tf.summary.scalar. Note that tf.summary.scalar uses the node name instead of the tag. This means that TensorFlow will automatically de-duplicate summary names based on the scope they are created in. Also, passing a tensor or list of tags to a scalar summary op is no longer supported.\n",
      "INFO:tensorflow:Create CheckpointSaverHook.\n",
      "INFO:tensorflow:Saving checkpoints for 1 into /tmp/iris_model/model.ckpt.\n",
      "INFO:tensorflow:loss = 1.24845, step = 1\n",
      "INFO:tensorflow:global_step/sec: 1976.37\n",
      "INFO:tensorflow:loss = 0.146242, step = 101 (0.053 sec)\n",
      "INFO:tensorflow:global_step/sec: 2164.69\n",
      "INFO:tensorflow:loss = 0.0801838, step = 201 (0.046 sec)\n",
      "INFO:tensorflow:global_step/sec: 2067.35\n",
      "INFO:tensorflow:loss = 0.0657346, step = 301 (0.048 sec)\n",
      "INFO:tensorflow:global_step/sec: 2061.05\n",
      "INFO:tensorflow:loss = 0.0595121, step = 401 (0.049 sec)\n",
      "INFO:tensorflow:global_step/sec: 2121.79\n",
      "INFO:tensorflow:loss = 0.0562554, step = 501 (0.047 sec)\n",
      "INFO:tensorflow:global_step/sec: 2120.67\n",
      "INFO:tensorflow:loss = 0.0536238, step = 601 (0.047 sec)\n",
      "INFO:tensorflow:global_step/sec: 2051.49\n",
      "INFO:tensorflow:loss = 0.0517796, step = 701 (0.048 sec)\n",
      "INFO:tensorflow:global_step/sec: 2112.73\n",
      "INFO:tensorflow:loss = 0.0500863, step = 801 (0.047 sec)\n",
      "INFO:tensorflow:global_step/sec: 2137.21\n",
      "INFO:tensorflow:loss = 0.0489247, step = 901 (0.047 sec)\n",
      "INFO:tensorflow:global_step/sec: 2126.3\n",
      "INFO:tensorflow:loss = 0.047664, step = 1001 (0.047 sec)\n",
      "INFO:tensorflow:global_step/sec: 2195.87\n",
      "INFO:tensorflow:loss = 0.0466572, step = 1101 (0.046 sec)\n",
      "INFO:tensorflow:global_step/sec: 2099.91\n",
      "INFO:tensorflow:loss = 0.0456845, step = 1201 (0.047 sec)\n",
      "INFO:tensorflow:global_step/sec: 1796.59\n",
      "INFO:tensorflow:loss = 0.0447955, step = 1301 (0.055 sec)\n",
      "INFO:tensorflow:global_step/sec: 1602.92\n",
      "INFO:tensorflow:loss = 0.0439785, step = 1401 (0.063 sec)\n",
      "INFO:tensorflow:global_step/sec: 1715.06\n",
      "INFO:tensorflow:loss = 0.0431926, step = 1501 (0.059 sec)\n",
      "INFO:tensorflow:global_step/sec: 1952.94\n",
      "INFO:tensorflow:loss = 0.0424603, step = 1601 (0.051 sec)\n",
      "INFO:tensorflow:global_step/sec: 2041.56\n",
      "INFO:tensorflow:loss = 0.0417402, step = 1701 (0.049 sec)\n",
      "INFO:tensorflow:global_step/sec: 2076.68\n",
      "INFO:tensorflow:loss = 0.0410736, step = 1801 (0.048 sec)\n",
      "INFO:tensorflow:global_step/sec: 2131.51\n",
      "INFO:tensorflow:loss = 0.0404273, step = 1901 (0.047 sec)\n",
      "INFO:tensorflow:Saving checkpoints for 2000 into /tmp/iris_model/model.ckpt.\n",
      "INFO:tensorflow:Loss for final step: 0.0399401.\n"
     ]
    },
    {
     "data": {
      "text/plain": [
       "DNNClassifier(params={'head': <tensorflow.contrib.learn.python.learn.estimators.head._MultiClassHead object at 0x7f6fdfd8a410>, 'hidden_units': [10, 20, 10], 'feature_columns': (_RealValuedColumn(column_name='', dimension=4, default_value=None, dtype=tf.float32, normalizer=None),), 'embedding_lr_multipliers': None, 'optimizer': None, 'dropout': None, 'gradient_clip_norm': None, 'activation_fn': <function relu at 0x7f6ff3b94488>, 'input_layer_min_slice_size': None})"
      ]
     },
     "execution_count": 8,
     "metadata": {},
     "output_type": "execute_result"
    }
   ],
   "source": [
    "#fit the model\n",
    "classifier.fit(input_fn=get_train_imputs, steps=2000)"
   ]
  },
  {
   "cell_type": "code",
   "execution_count": null,
   "metadata": {
    "collapsed": true
   },
   "outputs": [],
   "source": []
  }
 ],
 "metadata": {
  "kernelspec": {
   "display_name": "Python 2",
   "language": "python",
   "name": "python2"
  },
  "language_info": {
   "codemirror_mode": {
    "name": "ipython",
    "version": 2
   },
   "file_extension": ".py",
   "mimetype": "text/x-python",
   "name": "python",
   "nbconvert_exporter": "python",
   "pygments_lexer": "ipython2",
   "version": "2.7.12"
  }
 },
 "nbformat": 4,
 "nbformat_minor": 2
}
