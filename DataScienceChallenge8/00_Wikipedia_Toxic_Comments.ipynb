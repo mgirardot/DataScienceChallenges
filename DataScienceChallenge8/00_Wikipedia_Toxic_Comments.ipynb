{
 "cells": [
  {
   "cell_type": "code",
   "execution_count": 1,
   "metadata": {
    "collapsed": true
   },
   "outputs": [],
   "source": [
    "#test tensorflow\n",
    "import tensorflow as tf"
   ]
  },
  {
   "cell_type": "code",
   "execution_count": 2,
   "metadata": {
    "collapsed": true
   },
   "outputs": [],
   "source": [
    "hello = tf.constant('Hello Tensorflow!')"
   ]
  },
  {
   "cell_type": "code",
   "execution_count": 3,
   "metadata": {
    "collapsed": true
   },
   "outputs": [],
   "source": [
    "sess =tf.Session()"
   ]
  },
  {
   "cell_type": "code",
   "execution_count": 4,
   "metadata": {},
   "outputs": [
    {
     "name": "stdout",
     "output_type": "stream",
     "text": [
      "Hello Tensorflow!\n"
     ]
    }
   ],
   "source": [
    "print(sess.run(hello))"
   ]
  },
  {
   "cell_type": "markdown",
   "metadata": {},
   "source": [
    "## Bag of words classifier"
   ]
  },
  {
   "cell_type": "code",
   "execution_count": 5,
   "metadata": {
    "collapsed": true
   },
   "outputs": [],
   "source": [
    "import pandas as pd\n",
    "import numpy as np\n",
    "import urllib\n",
    "from sklearn.pipeline import Pipeline\n",
    "from sklearn.feature_extraction.text import CountVectorizer\n",
    "from sklearn.feature_extraction.text import TfidfTransformer, TfidfVectorizer\n",
    "from sklearn.linear_model import LogisticRegression\n",
    "from sklearn.metrics import roc_auc_score"
   ]
  },
  {
   "cell_type": "markdown",
   "metadata": {},
   "source": [
    "### Downloading the data"
   ]
  },
  {
   "cell_type": "raw",
   "metadata": {},
   "source": [
    "# download annotated comments and annotations\n",
    "\n",
    "ANNOTATED_COMMENTS_URL = 'https://ndownloader.figshare.com/files/7038044' \n",
    "ANNOTATIONS_URL = 'https://ndownloader.figshare.com/files/7383751' \n",
    "\n",
    "\n",
    "def download_file(url, fname):\n",
    "    urllib.urlretrieve(url, fname)\n",
    "\n",
    "                \n",
    "download_file(ANNOTATED_COMMENTS_URL, 'attack_annotated_comments.tsv')\n",
    "download_file(ANNOTATIONS_URL, 'attack_annotations.tsv')"
   ]
  },
  {
   "cell_type": "code",
   "execution_count": 6,
   "metadata": {
    "collapsed": true
   },
   "outputs": [],
   "source": [
    "comments = pd.read_csv('attack_annotated_comments.tsv', sep = '\\t', index_col = 0)\n",
    "annotations = pd.read_csv('attack_annotations.tsv',  sep = '\\t')"
   ]
  },
  {
   "cell_type": "code",
   "execution_count": 7,
   "metadata": {},
   "outputs": [
    {
     "data": {
      "text/html": [
       "<div>\n",
       "<style>\n",
       "    .dataframe thead tr:only-child th {\n",
       "        text-align: right;\n",
       "    }\n",
       "\n",
       "    .dataframe thead th {\n",
       "        text-align: left;\n",
       "    }\n",
       "\n",
       "    .dataframe tbody tr th {\n",
       "        vertical-align: top;\n",
       "    }\n",
       "</style>\n",
       "<table border=\"1\" class=\"dataframe\">\n",
       "  <thead>\n",
       "    <tr style=\"text-align: right;\">\n",
       "      <th></th>\n",
       "      <th>comment</th>\n",
       "      <th>year</th>\n",
       "      <th>logged_in</th>\n",
       "      <th>ns</th>\n",
       "      <th>sample</th>\n",
       "      <th>split</th>\n",
       "    </tr>\n",
       "    <tr>\n",
       "      <th>rev_id</th>\n",
       "      <th></th>\n",
       "      <th></th>\n",
       "      <th></th>\n",
       "      <th></th>\n",
       "      <th></th>\n",
       "      <th></th>\n",
       "    </tr>\n",
       "  </thead>\n",
       "  <tbody>\n",
       "    <tr>\n",
       "      <th>37675</th>\n",
       "      <td>`-NEWLINE_TOKENThis is not ``creative``.  Thos...</td>\n",
       "      <td>2002</td>\n",
       "      <td>True</td>\n",
       "      <td>article</td>\n",
       "      <td>random</td>\n",
       "      <td>train</td>\n",
       "    </tr>\n",
       "    <tr>\n",
       "      <th>44816</th>\n",
       "      <td>`NEWLINE_TOKENNEWLINE_TOKEN:: the term ``stand...</td>\n",
       "      <td>2002</td>\n",
       "      <td>True</td>\n",
       "      <td>article</td>\n",
       "      <td>random</td>\n",
       "      <td>train</td>\n",
       "    </tr>\n",
       "    <tr>\n",
       "      <th>49851</th>\n",
       "      <td>NEWLINE_TOKENNEWLINE_TOKENTrue or false, the s...</td>\n",
       "      <td>2002</td>\n",
       "      <td>True</td>\n",
       "      <td>article</td>\n",
       "      <td>random</td>\n",
       "      <td>train</td>\n",
       "    </tr>\n",
       "    <tr>\n",
       "      <th>89320</th>\n",
       "      <td>Next, maybe you could work on being less cond...</td>\n",
       "      <td>2002</td>\n",
       "      <td>True</td>\n",
       "      <td>article</td>\n",
       "      <td>random</td>\n",
       "      <td>dev</td>\n",
       "    </tr>\n",
       "    <tr>\n",
       "      <th>93890</th>\n",
       "      <td>This page will need disambiguation.</td>\n",
       "      <td>2002</td>\n",
       "      <td>True</td>\n",
       "      <td>article</td>\n",
       "      <td>random</td>\n",
       "      <td>train</td>\n",
       "    </tr>\n",
       "  </tbody>\n",
       "</table>\n",
       "</div>"
      ],
      "text/plain": [
       "                                                  comment  year  logged_in  \\\n",
       "rev_id                                                                       \n",
       "37675   `-NEWLINE_TOKENThis is not ``creative``.  Thos...  2002       True   \n",
       "44816   `NEWLINE_TOKENNEWLINE_TOKEN:: the term ``stand...  2002       True   \n",
       "49851   NEWLINE_TOKENNEWLINE_TOKENTrue or false, the s...  2002       True   \n",
       "89320    Next, maybe you could work on being less cond...  2002       True   \n",
       "93890                This page will need disambiguation.   2002       True   \n",
       "\n",
       "             ns  sample  split  \n",
       "rev_id                          \n",
       "37675   article  random  train  \n",
       "44816   article  random  train  \n",
       "49851   article  random  train  \n",
       "89320   article  random    dev  \n",
       "93890   article  random  train  "
      ]
     },
     "execution_count": 7,
     "metadata": {},
     "output_type": "execute_result"
    }
   ],
   "source": [
    "comments.head()"
   ]
  },
  {
   "cell_type": "code",
   "execution_count": 8,
   "metadata": {},
   "outputs": [
    {
     "data": {
      "text/html": [
       "<div>\n",
       "<style>\n",
       "    .dataframe thead tr:only-child th {\n",
       "        text-align: right;\n",
       "    }\n",
       "\n",
       "    .dataframe thead th {\n",
       "        text-align: left;\n",
       "    }\n",
       "\n",
       "    .dataframe tbody tr th {\n",
       "        vertical-align: top;\n",
       "    }\n",
       "</style>\n",
       "<table border=\"1\" class=\"dataframe\">\n",
       "  <thead>\n",
       "    <tr style=\"text-align: right;\">\n",
       "      <th></th>\n",
       "      <th>rev_id</th>\n",
       "      <th>worker_id</th>\n",
       "      <th>attack</th>\n",
       "    </tr>\n",
       "  </thead>\n",
       "  <tbody>\n",
       "    <tr>\n",
       "      <th>0</th>\n",
       "      <td>37675</td>\n",
       "      <td>1362</td>\n",
       "      <td>0.0</td>\n",
       "    </tr>\n",
       "    <tr>\n",
       "      <th>1</th>\n",
       "      <td>37675</td>\n",
       "      <td>2408</td>\n",
       "      <td>0.0</td>\n",
       "    </tr>\n",
       "    <tr>\n",
       "      <th>2</th>\n",
       "      <td>37675</td>\n",
       "      <td>1493</td>\n",
       "      <td>0.0</td>\n",
       "    </tr>\n",
       "    <tr>\n",
       "      <th>3</th>\n",
       "      <td>37675</td>\n",
       "      <td>1439</td>\n",
       "      <td>0.0</td>\n",
       "    </tr>\n",
       "    <tr>\n",
       "      <th>4</th>\n",
       "      <td>37675</td>\n",
       "      <td>170</td>\n",
       "      <td>0.0</td>\n",
       "    </tr>\n",
       "  </tbody>\n",
       "</table>\n",
       "</div>"
      ],
      "text/plain": [
       "   rev_id  worker_id  attack\n",
       "0   37675       1362     0.0\n",
       "1   37675       2408     0.0\n",
       "2   37675       1493     0.0\n",
       "3   37675       1439     0.0\n",
       "4   37675        170     0.0"
      ]
     },
     "execution_count": 8,
     "metadata": {},
     "output_type": "execute_result"
    }
   ],
   "source": [
    "annotations.head()"
   ]
  },
  {
   "cell_type": "markdown",
   "metadata": {},
   "source": [
    "### Assemble the dataset"
   ]
  },
  {
   "cell_type": "code",
   "execution_count": 9,
   "metadata": {
    "collapsed": true
   },
   "outputs": [],
   "source": [
    "#labels a comment as an attack from the majority vote\n",
    "labels = annotations.groupby('rev_id')['attack'].mean() > 0.5"
   ]
  },
  {
   "cell_type": "code",
   "execution_count": 10,
   "metadata": {},
   "outputs": [
    {
     "data": {
      "text/plain": [
       "rev_id\n",
       "37675    False\n",
       "44816    False\n",
       "49851    False\n",
       "89320    False\n",
       "93890    False\n",
       "Name: attack, dtype: bool"
      ]
     },
     "execution_count": 10,
     "metadata": {},
     "output_type": "execute_result"
    }
   ],
   "source": [
    "labels.head()"
   ]
  },
  {
   "cell_type": "code",
   "execution_count": 11,
   "metadata": {
    "collapsed": true
   },
   "outputs": [],
   "source": [
    "#join labels and comments\n",
    "comments['attack'] = labels"
   ]
  },
  {
   "cell_type": "code",
   "execution_count": 12,
   "metadata": {
    "collapsed": true
   },
   "outputs": [],
   "source": [
    "#remove NEWLINE and TAB Tokens\n",
    "comments['comment'] = comments.comment.str.replace(\"NEWLINE_TOKEN\", \" \").str.replace(\"TAB_TOKEN\",\" \")"
   ]
  },
  {
   "cell_type": "code",
   "execution_count": 13,
   "metadata": {},
   "outputs": [
    {
     "name": "stdout",
     "output_type": "stream",
     "text": [
      "Proportion of training data = 0.60\n",
      "Proportion of validation data = 0.20\n",
      "Proportion of test data = 0.20\n"
     ]
    }
   ],
   "source": [
    "# Split the train and test sets\n",
    "ratio_train = len(comments[comments['split'] == 'train'])/float(len(comments))\n",
    "print(\"Proportion of training data = %.2f\" % ratio_train)\n",
    "\n",
    "ratio_val = len(comments[comments['split'] == 'dev'])/float(len(comments))\n",
    "print(\"Proportion of validation data = %.2f\" % ratio_val)\n",
    "\n",
    "ratio_test = len(comments[comments['split'] == 'test'])/float(len(comments))\n",
    "print(\"Proportion of test data = %.2f\" % ratio_test)"
   ]
  },
  {
   "cell_type": "code",
   "execution_count": 14,
   "metadata": {
    "collapsed": true
   },
   "outputs": [],
   "source": [
    "train_comments = comments[comments['split'] == 'train']\n",
    "test_comments = comments[comments['split'] == 'test']"
   ]
  },
  {
   "cell_type": "code",
   "execution_count": 15,
   "metadata": {},
   "outputs": [
    {
     "data": {
      "text/plain": [
       "rev_id\n",
       "37675     0.0\n",
       "44816     0.0\n",
       "49851     0.0\n",
       "93890     0.0\n",
       "102817    0.0\n",
       "Name: attack, dtype: float64"
      ]
     },
     "execution_count": 15,
     "metadata": {},
     "output_type": "execute_result"
    }
   ],
   "source": [
    "train_comments.attack.astype(float).head()"
   ]
  },
  {
   "cell_type": "markdown",
   "metadata": {},
   "source": [
    "## Text classifier"
   ]
  },
  {
   "cell_type": "code",
   "execution_count": 16,
   "metadata": {},
   "outputs": [
    {
     "name": "stdout",
     "output_type": "stream",
     "text": [
      "Test ROC AUC: 0.957\n"
     ]
    }
   ],
   "source": [
    "clf = Pipeline([\n",
    "    ('vect', CountVectorizer(max_features=10000, ngram_range=(1,2))),\n",
    "    ('tfidf', TfidfTransformer(norm='l2')),\n",
    "    ('clf', LogisticRegression()),    \n",
    "])\n",
    "\n",
    "clf = clf.fit(train_comments['comment'], train_comments['attack'])\n",
    "\n",
    "auc = roc_auc_score(test_comments['attack'], clf.predict_proba(test_comments['comment'])[:,1])\n",
    "\n",
    "print('Test ROC AUC: %.3f' % auc)"
   ]
  },
  {
   "cell_type": "code",
   "execution_count": 17,
   "metadata": {
    "collapsed": true
   },
   "outputs": [],
   "source": [
    "from sklearn.metrics import accuracy_score"
   ]
  },
  {
   "cell_type": "code",
   "execution_count": 18,
   "metadata": {},
   "outputs": [
    {
     "data": {
      "text/plain": [
       "0.94054707049788588"
      ]
     },
     "execution_count": 18,
     "metadata": {},
     "output_type": "execute_result"
    }
   ],
   "source": [
    "accuracy_score(test_comments['attack'], clf.predict(test_comments['comment']) )"
   ]
  },
  {
   "cell_type": "markdown",
   "metadata": {},
   "source": [
    "## TF Logistic Regression"
   ]
  },
  {
   "cell_type": "code",
   "execution_count": 19,
   "metadata": {
    "collapsed": true
   },
   "outputs": [],
   "source": [
    "# batch size during training\n",
    "batch_size = 200\n",
    "max_features = 10000"
   ]
  },
  {
   "cell_type": "code",
   "execution_count": 20,
   "metadata": {
    "collapsed": true
   },
   "outputs": [],
   "source": [
    "import nltk\n",
    "def tokenizer(text):\n",
    "    words = nltk.word_tokenize(text)\n",
    "    return words"
   ]
  },
  {
   "cell_type": "code",
   "execution_count": 21,
   "metadata": {
    "collapsed": true
   },
   "outputs": [],
   "source": [
    "# Vectorizer\n",
    "tfidf = TfidfVectorizer(tokenizer=tokenizer, stop_words='english', max_features=max_features, ngram_range=(1,2), norm='l2')\n",
    "sparse_train_comments = tfidf.fit_transform(train_comments.comment)\n",
    "sparse_test_comments = tfidf.transform(test_comments.comment)\n"
   ]
  },
  {
   "cell_type": "code",
   "execution_count": 22,
   "metadata": {},
   "outputs": [],
   "source": [
    "target_train = train_comments.attack.astype(np.float32).as_matrix()\n",
    "target_test = test_comments.attack.astype(np.float32).as_matrix()"
   ]
  },
  {
   "cell_type": "code",
   "execution_count": 23,
   "metadata": {},
   "outputs": [
    {
     "data": {
      "text/plain": [
       "(69526, 10000)"
      ]
     },
     "execution_count": 23,
     "metadata": {},
     "output_type": "execute_result"
    }
   ],
   "source": [
    "sparse_train_comments.shape"
   ]
  },
  {
   "cell_type": "code",
   "execution_count": 24,
   "metadata": {},
   "outputs": [
    {
     "data": {
      "text/plain": [
       "(23178, 10000)"
      ]
     },
     "execution_count": 24,
     "metadata": {},
     "output_type": "execute_result"
    }
   ],
   "source": [
    "sparse_test_comments.shape"
   ]
  },
  {
   "cell_type": "code",
   "execution_count": 25,
   "metadata": {},
   "outputs": [
    {
     "data": {
      "text/plain": [
       "(69526,)"
      ]
     },
     "execution_count": 25,
     "metadata": {},
     "output_type": "execute_result"
    }
   ],
   "source": [
    "target_train.shape"
   ]
  },
  {
   "cell_type": "code",
   "execution_count": 26,
   "metadata": {},
   "outputs": [
    {
     "data": {
      "text/plain": [
       "(23178,)"
      ]
     },
     "execution_count": 26,
     "metadata": {},
     "output_type": "execute_result"
    }
   ],
   "source": [
    "target_test.shape"
   ]
  },
  {
   "cell_type": "code",
   "execution_count": 27,
   "metadata": {
    "collapsed": true
   },
   "outputs": [],
   "source": [
    "# Variables of the Logistic regression model\n",
    "#weigths\n",
    "W = tf.Variable(tf.random_normal(shape=[max_features,1]))\n",
    "# bias\n",
    "b = tf.Variable(tf.random_normal(shape=[1,1]))"
   ]
  },
  {
   "cell_type": "code",
   "execution_count": 28,
   "metadata": {
    "collapsed": true
   },
   "outputs": [],
   "source": [
    "# Initialize placeholders\n",
    "X = tf.placeholder(shape=[None, max_features], dtype=tf.float32)\n",
    "y = tf.placeholder(shape=[None,1], dtype=tf.float32)"
   ]
  },
  {
   "cell_type": "code",
   "execution_count": 29,
   "metadata": {
    "collapsed": true
   },
   "outputs": [],
   "source": [
    "# Declare logistic model (sigmoid loss function)\n",
    "model_output = tf.add(tf.matmul(X, W), b)"
   ]
  },
  {
   "cell_type": "code",
   "execution_count": 30,
   "metadata": {
    "collapsed": true
   },
   "outputs": [],
   "source": [
    "# Declare loss function (cross entropy loss)\n",
    "loss = tf.reduce_mean(tf.nn.sigmoid_cross_entropy_with_logits(logits=model_output, labels=y))"
   ]
  },
  {
   "cell_type": "code",
   "execution_count": 31,
   "metadata": {
    "collapsed": true
   },
   "outputs": [],
   "source": [
    "#prediction\n",
    "prediction = tf.round(tf.sigmoid(model_output))\n",
    "prediction_correct = tf.cast(tf.equal(prediction, y), tf.float32)\n",
    "accuracy = tf.reduce_mean(prediction_correct)"
   ]
  },
  {
   "cell_type": "code",
   "execution_count": 37,
   "metadata": {
    "collapsed": true
   },
   "outputs": [],
   "source": [
    "# Declare the optimizer\n",
    "my_opt = tf.train.GradientDescentOptimizer(0.001)\n",
    "train_step = my_opt.minimize(loss)"
   ]
  },
  {
   "cell_type": "code",
   "execution_count": 38,
   "metadata": {
    "collapsed": true
   },
   "outputs": [],
   "source": [
    "#initialize variables\n",
    "init = tf.global_variables_initializer()\n",
    "sess.run(init)"
   ]
  },
  {
   "cell_type": "code",
   "execution_count": 39,
   "metadata": {},
   "outputs": [
    {
     "name": "stdout",
     "output_type": "stream",
     "text": [
      "Generation # 500. Train Loss (Test Loss): 0.87 (0.89). Train Acc (Test Acc): 0.42 (0.43)\n",
      "Generation # 1000. Train Loss (Test Loss): 0.75 (0.80). Train Acc (Test Acc): 0.50 (0.50)\n",
      "Generation # 1500. Train Loss (Test Loss): 0.73 (0.74). Train Acc (Test Acc): 0.58 (0.56)\n",
      "Generation # 2000. Train Loss (Test Loss): 0.63 (0.68). Train Acc (Test Acc): 0.64 (0.61)\n",
      "Generation # 2500. Train Loss (Test Loss): 0.67 (0.64). Train Acc (Test Acc): 0.62 (0.65)\n",
      "Generation # 3000. Train Loss (Test Loss): 0.57 (0.60). Train Acc (Test Acc): 0.72 (0.69)\n",
      "Generation # 3500. Train Loss (Test Loss): 0.59 (0.58). Train Acc (Test Acc): 0.74 (0.72)\n",
      "Generation # 4000. Train Loss (Test Loss): 0.49 (0.55). Train Acc (Test Acc): 0.74 (0.74)\n",
      "Generation # 4500. Train Loss (Test Loss): 0.52 (0.53). Train Acc (Test Acc): 0.77 (0.76)\n",
      "Generation # 5000. Train Loss (Test Loss): 0.46 (0.52). Train Acc (Test Acc): 0.84 (0.78)\n",
      "Generation # 5500. Train Loss (Test Loss): 0.53 (0.50). Train Acc (Test Acc): 0.78 (0.79)\n",
      "Generation # 6000. Train Loss (Test Loss): 0.49 (0.49). Train Acc (Test Acc): 0.78 (0.80)\n",
      "Generation # 6500. Train Loss (Test Loss): 0.47 (0.48). Train Acc (Test Acc): 0.82 (0.81)\n",
      "Generation # 7000. Train Loss (Test Loss): 0.46 (0.47). Train Acc (Test Acc): 0.82 (0.82)\n",
      "Generation # 7500. Train Loss (Test Loss): 0.43 (0.47). Train Acc (Test Acc): 0.86 (0.83)\n",
      "Generation # 8000. Train Loss (Test Loss): 0.40 (0.46). Train Acc (Test Acc): 0.88 (0.83)\n",
      "Generation # 8500. Train Loss (Test Loss): 0.48 (0.46). Train Acc (Test Acc): 0.81 (0.84)\n",
      "Generation # 9000. Train Loss (Test Loss): 0.42 (0.45). Train Acc (Test Acc): 0.84 (0.84)\n",
      "Generation # 9500. Train Loss (Test Loss): 0.42 (0.45). Train Acc (Test Acc): 0.87 (0.85)\n",
      "Generation # 10000. Train Loss (Test Loss): 0.40 (0.44). Train Acc (Test Acc): 0.86 (0.85)\n",
      "Generation # 10500. Train Loss (Test Loss): 0.44 (0.44). Train Acc (Test Acc): 0.87 (0.85)\n",
      "Generation # 11000. Train Loss (Test Loss): 0.44 (0.44). Train Acc (Test Acc): 0.84 (0.85)\n",
      "Generation # 11500. Train Loss (Test Loss): 0.36 (0.44). Train Acc (Test Acc): 0.89 (0.86)\n",
      "Generation # 12000. Train Loss (Test Loss): 0.38 (0.43). Train Acc (Test Acc): 0.86 (0.86)\n",
      "Generation # 12500. Train Loss (Test Loss): 0.35 (0.43). Train Acc (Test Acc): 0.87 (0.86)\n",
      "Generation # 13000. Train Loss (Test Loss): 0.45 (0.43). Train Acc (Test Acc): 0.84 (0.86)\n",
      "Generation # 13500. Train Loss (Test Loss): 0.45 (0.43). Train Acc (Test Acc): 0.84 (0.86)\n",
      "Generation # 14000. Train Loss (Test Loss): 0.39 (0.43). Train Acc (Test Acc): 0.88 (0.86)\n",
      "Generation # 14500. Train Loss (Test Loss): 0.38 (0.43). Train Acc (Test Acc): 0.88 (0.86)\n",
      "Generation # 15000. Train Loss (Test Loss): 0.40 (0.43). Train Acc (Test Acc): 0.88 (0.86)\n",
      "Generation # 15500. Train Loss (Test Loss): 0.30 (0.43). Train Acc (Test Acc): 0.91 (0.86)\n",
      "Generation # 16000. Train Loss (Test Loss): 0.45 (0.43). Train Acc (Test Acc): 0.86 (0.87)\n",
      "Generation # 16500. Train Loss (Test Loss): 0.39 (0.42). Train Acc (Test Acc): 0.88 (0.87)\n",
      "Generation # 17000. Train Loss (Test Loss): 0.48 (0.42). Train Acc (Test Acc): 0.83 (0.87)\n",
      "Generation # 17500. Train Loss (Test Loss): 0.34 (0.42). Train Acc (Test Acc): 0.91 (0.87)\n",
      "Generation # 18000. Train Loss (Test Loss): 0.35 (0.42). Train Acc (Test Acc): 0.89 (0.87)\n",
      "Generation # 18500. Train Loss (Test Loss): 0.35 (0.42). Train Acc (Test Acc): 0.90 (0.87)\n",
      "Generation # 19000. Train Loss (Test Loss): 0.43 (0.42). Train Acc (Test Acc): 0.86 (0.87)\n",
      "Generation # 19500. Train Loss (Test Loss): 0.29 (0.42). Train Acc (Test Acc): 0.92 (0.87)\n",
      "Generation # 20000. Train Loss (Test Loss): 0.44 (0.42). Train Acc (Test Acc): 0.86 (0.87)\n",
      "Generation # 20500. Train Loss (Test Loss): 0.33 (0.42). Train Acc (Test Acc): 0.91 (0.87)\n",
      "Generation # 21000. Train Loss (Test Loss): 0.44 (0.42). Train Acc (Test Acc): 0.86 (0.87)\n",
      "Generation # 21500. Train Loss (Test Loss): 0.37 (0.42). Train Acc (Test Acc): 0.90 (0.87)\n",
      "Generation # 22000. Train Loss (Test Loss): 0.41 (0.42). Train Acc (Test Acc): 0.86 (0.87)\n",
      "Generation # 22500. Train Loss (Test Loss): 0.46 (0.42). Train Acc (Test Acc): 0.86 (0.87)\n",
      "Generation # 23000. Train Loss (Test Loss): 0.34 (0.42). Train Acc (Test Acc): 0.91 (0.87)\n",
      "Generation # 23500. Train Loss (Test Loss): 0.49 (0.42). Train Acc (Test Acc): 0.84 (0.87)\n",
      "Generation # 24000. Train Loss (Test Loss): 0.42 (0.42). Train Acc (Test Acc): 0.90 (0.87)\n",
      "Generation # 24500. Train Loss (Test Loss): 0.35 (0.42). Train Acc (Test Acc): 0.90 (0.87)\n",
      "Generation # 25000. Train Loss (Test Loss): 0.37 (0.42). Train Acc (Test Acc): 0.88 (0.87)\n",
      "Generation # 25500. Train Loss (Test Loss): 0.39 (0.42). Train Acc (Test Acc): 0.89 (0.87)\n",
      "Generation # 26000. Train Loss (Test Loss): 0.56 (0.42). Train Acc (Test Acc): 0.82 (0.87)\n",
      "Generation # 26500. Train Loss (Test Loss): 0.39 (0.42). Train Acc (Test Acc): 0.87 (0.87)\n",
      "Generation # 27000. Train Loss (Test Loss): 0.36 (0.42). Train Acc (Test Acc): 0.91 (0.87)\n",
      "Generation # 27500. Train Loss (Test Loss): 0.37 (0.42). Train Acc (Test Acc): 0.87 (0.87)\n",
      "Generation # 28000. Train Loss (Test Loss): 0.39 (0.42). Train Acc (Test Acc): 0.89 (0.87)\n",
      "Generation # 28500. Train Loss (Test Loss): 0.44 (0.42). Train Acc (Test Acc): 0.84 (0.87)\n",
      "Generation # 29000. Train Loss (Test Loss): 0.39 (0.42). Train Acc (Test Acc): 0.88 (0.87)\n",
      "Generation # 29500. Train Loss (Test Loss): 0.46 (0.42). Train Acc (Test Acc): 0.86 (0.87)\n",
      "Generation # 30000. Train Loss (Test Loss): 0.37 (0.42). Train Acc (Test Acc): 0.88 (0.87)\n",
      "Generation # 30500. Train Loss (Test Loss): 0.50 (0.42). Train Acc (Test Acc): 0.84 (0.87)\n",
      "Generation # 31000. Train Loss (Test Loss): 0.44 (0.42). Train Acc (Test Acc): 0.86 (0.87)\n",
      "Generation # 31500. Train Loss (Test Loss): 0.36 (0.42). Train Acc (Test Acc): 0.91 (0.87)\n",
      "Generation # 32000. Train Loss (Test Loss): 0.35 (0.42). Train Acc (Test Acc): 0.90 (0.87)\n",
      "Generation # 32500. Train Loss (Test Loss): 0.49 (0.42). Train Acc (Test Acc): 0.86 (0.87)\n",
      "Generation # 33000. Train Loss (Test Loss): 0.33 (0.42). Train Acc (Test Acc): 0.90 (0.87)\n",
      "Generation # 33500. Train Loss (Test Loss): 0.55 (0.42). Train Acc (Test Acc): 0.82 (0.87)\n",
      "Generation # 34000. Train Loss (Test Loss): 0.42 (0.42). Train Acc (Test Acc): 0.87 (0.87)\n",
      "Generation # 34500. Train Loss (Test Loss): 0.56 (0.42). Train Acc (Test Acc): 0.82 (0.87)\n",
      "Generation # 35000. Train Loss (Test Loss): 0.48 (0.42). Train Acc (Test Acc): 0.84 (0.87)\n",
      "Generation # 35500. Train Loss (Test Loss): 0.41 (0.42). Train Acc (Test Acc): 0.88 (0.87)\n",
      "Generation # 36000. Train Loss (Test Loss): 0.36 (0.42). Train Acc (Test Acc): 0.89 (0.87)\n",
      "Generation # 36500. Train Loss (Test Loss): 0.41 (0.42). Train Acc (Test Acc): 0.88 (0.87)\n",
      "Generation # 37000. Train Loss (Test Loss): 0.30 (0.42). Train Acc (Test Acc): 0.92 (0.87)\n",
      "Generation # 37500. Train Loss (Test Loss): 0.35 (0.42). Train Acc (Test Acc): 0.90 (0.87)\n",
      "Generation # 38000. Train Loss (Test Loss): 0.40 (0.42). Train Acc (Test Acc): 0.88 (0.87)\n",
      "Generation # 38500. Train Loss (Test Loss): 0.36 (0.42). Train Acc (Test Acc): 0.91 (0.87)\n",
      "Generation # 39000. Train Loss (Test Loss): 0.52 (0.42). Train Acc (Test Acc): 0.83 (0.87)\n",
      "Generation # 39500. Train Loss (Test Loss): 0.59 (0.42). Train Acc (Test Acc): 0.84 (0.87)\n",
      "Generation # 40000. Train Loss (Test Loss): 0.31 (0.42). Train Acc (Test Acc): 0.91 (0.87)\n",
      "Generation # 40500. Train Loss (Test Loss): 0.41 (0.42). Train Acc (Test Acc): 0.86 (0.87)\n",
      "Generation # 41000. Train Loss (Test Loss): 0.46 (0.42). Train Acc (Test Acc): 0.84 (0.87)\n",
      "Generation # 41500. Train Loss (Test Loss): 0.40 (0.42). Train Acc (Test Acc): 0.89 (0.87)\n",
      "Generation # 42000. Train Loss (Test Loss): 0.43 (0.42). Train Acc (Test Acc): 0.86 (0.87)\n",
      "Generation # 42500. Train Loss (Test Loss): 0.36 (0.42). Train Acc (Test Acc): 0.90 (0.87)\n",
      "Generation # 43000. Train Loss (Test Loss): 0.42 (0.42). Train Acc (Test Acc): 0.86 (0.87)\n",
      "Generation # 43500. Train Loss (Test Loss): 0.42 (0.42). Train Acc (Test Acc): 0.86 (0.87)\n",
      "Generation # 44000. Train Loss (Test Loss): 0.40 (0.42). Train Acc (Test Acc): 0.88 (0.87)\n",
      "Generation # 44500. Train Loss (Test Loss): 0.33 (0.42). Train Acc (Test Acc): 0.92 (0.87)\n",
      "Generation # 45000. Train Loss (Test Loss): 0.40 (0.41). Train Acc (Test Acc): 0.88 (0.87)\n",
      "Generation # 45500. Train Loss (Test Loss): 0.40 (0.41). Train Acc (Test Acc): 0.89 (0.87)\n"
     ]
    },
    {
     "name": "stdout",
     "output_type": "stream",
     "text": [
      "Generation # 46000. Train Loss (Test Loss): 0.43 (0.41). Train Acc (Test Acc): 0.88 (0.87)\n",
      "Generation # 46500. Train Loss (Test Loss): 0.44 (0.41). Train Acc (Test Acc): 0.86 (0.87)\n",
      "Generation # 47000. Train Loss (Test Loss): 0.38 (0.41). Train Acc (Test Acc): 0.88 (0.87)\n",
      "Generation # 47500. Train Loss (Test Loss): 0.31 (0.41). Train Acc (Test Acc): 0.90 (0.87)\n",
      "Generation # 48000. Train Loss (Test Loss): 0.39 (0.41). Train Acc (Test Acc): 0.88 (0.87)\n",
      "Generation # 48500. Train Loss (Test Loss): 0.35 (0.41). Train Acc (Test Acc): 0.89 (0.87)\n",
      "Generation # 49000. Train Loss (Test Loss): 0.35 (0.41). Train Acc (Test Acc): 0.90 (0.87)\n",
      "Generation # 49500. Train Loss (Test Loss): 0.47 (0.41). Train Acc (Test Acc): 0.86 (0.87)\n",
      "Generation # 50000. Train Loss (Test Loss): 0.38 (0.41). Train Acc (Test Acc): 0.88 (0.87)\n"
     ]
    }
   ],
   "source": [
    "train_loss = []\n",
    "test_loss = []\n",
    "train_acc = []\n",
    "test_acc = []\n",
    "i_data = []\n",
    "\n",
    "for i in range(50000):\n",
    "    rand_index = np.random.choice(sparse_train_comments.shape[0], size=batch_size)\n",
    "    rand_x = sparse_train_comments[rand_index].todense()\n",
    "    rand_y = np.transpose([target_train[rand_index]] )\n",
    "    \n",
    "    sess.run(train_step, feed_dict={X: rand_x, y: rand_y})\n",
    "    \n",
    "    #record every 100 iterations\n",
    "    if (i+1) % 100 == 0:\n",
    "        i_data.append(i+1)\n",
    "        train_loss_temp = sess.run(loss, feed_dict={X: rand_x, y: rand_y})\n",
    "        train_loss.append(train_loss_temp)\n",
    "        \n",
    "        test_loss_temp = sess.run(loss, feed_dict={X: sparse_test_comments.todense() , \n",
    "                                                   y: np.transpose([target_test] ) })\n",
    "        test_loss.append(test_loss_temp)\n",
    "        \n",
    "        train_acc_temp = sess.run(accuracy, feed_dict={X: rand_x, y: rand_y})\n",
    "        train_acc.append(train_acc_temp)\n",
    "    \n",
    "        test_acc_temp = sess.run(accuracy, feed_dict={X: sparse_test_comments.todense(), \n",
    "                                                      y: np.transpose([target_test] ) })\n",
    "        test_acc.append(test_acc_temp)\n",
    "        \n",
    "    if (i+1)%500==0:\n",
    "        acc_and_loss = [i+1, train_loss_temp, test_loss_temp, train_acc_temp, test_acc_temp]\n",
    "        acc_and_loss = [np.round(x,2) for x in acc_and_loss]\n",
    "        print('Generation # {}. Train Loss (Test Loss): {:.2f} ({:.2f}). Train Acc (Test Acc): {:.2f} ({:.2f})'.format(*acc_and_loss))"
   ]
  },
  {
   "cell_type": "code",
   "execution_count": 40,
   "metadata": {
    "collapsed": true
   },
   "outputs": [],
   "source": [
    "import seaborn as sns\n",
    "import matplotlib.pyplot as plt\n",
    "%matplotlib inline"
   ]
  },
  {
   "cell_type": "code",
   "execution_count": 41,
   "metadata": {},
   "outputs": [
    {
     "data": {
      "image/png": "[encoded data removed]",
      "text/plain": [
       "<matplotlib.figure.Figure at 0x7f1311292590>"
      ]
     },
     "metadata": {},
     "output_type": "display_data"
    },
    {
     "data": {
      "image/png": "[encoded data removed]",
      "text/plain": [
       "<matplotlib.figure.Figure at 0x7f1311273b50>"
      ]
     },
     "metadata": {},
     "output_type": "display_data"
    }
   ],
   "source": [
    "# Plot loss over time\n",
    "plt.plot(i_data, train_loss, 'k-', label='Train Loss')\n",
    "plt.plot(i_data, test_loss, 'r--', label='Test Loss', linewidth=3)\n",
    "plt.title('Cross Entropy Loss per Generation')\n",
    "plt.xlabel('Generation')\n",
    "plt.ylabel('Cross Entropy Loss')\n",
    "plt.legend(loc='upper right')\n",
    "plt.show()\n",
    "\n",
    "# Plot train and test accuracy\n",
    "plt.plot(i_data, train_acc, 'k-', label='Train Set Accuracy')\n",
    "plt.plot(i_data, test_acc, 'r--', label='Test Set Accuracy', linewidth=3)\n",
    "plt.title('Train and Test Accuracy')\n",
    "plt.xlabel('Generation')\n",
    "plt.ylabel('Accuracy')\n",
    "plt.legend(loc='lower right')\n",
    "plt.show()"
   ]
  },
  {
   "cell_type": "code",
   "execution_count": null,
   "metadata": {
    "collapsed": true
   },
   "outputs": [],
   "source": []
  }
 ],
 "metadata": {
  "kernelspec": {
   "display_name": "Python 2",
   "language": "python",
   "name": "python2"
  },
  "language_info": {
   "codemirror_mode": {
    "name": "ipython",
    "version": 2
   },
   "file_extension": ".py",
   "mimetype": "text/x-python",
   "name": "python",
   "nbconvert_exporter": "python",
   "pygments_lexer": "ipython2",
   "version": "2.7.12"
  }
 },
 "nbformat": 4,
 "nbformat_minor": 2
}
