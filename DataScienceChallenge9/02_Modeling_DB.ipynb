{
 "cells": [
  {
   "cell_type": "code",
   "execution_count": 6,
   "metadata": {
    "collapsed": true
   },
   "outputs": [],
   "source": [
    "import pandas as pd\n",
    "from py2neo import Graph, authenticate, Relationship\n",
    "graph = Graph(user=\"neo4j\", password=\"admin\")"
   ]
  },
  {
   "cell_type": "markdown",
   "metadata": {},
   "source": [
    "# Load the data"
   ]
  },
  {
   "cell_type": "code",
   "execution_count": 4,
   "metadata": {
    "collapsed": false
   },
   "outputs": [],
   "source": [
    "\n",
    "def loadData(filePath):\n",
    "    with open(filePath) as f:\n",
    "        data = f.read().split('\\n')\n",
    "    elements = []\n",
    "    for line in data:\n",
    "        el = line.split()\n",
    "        try:\n",
    "            elements.append([el[0],el[4], ' '.join(el[7:])])\n",
    "        except:\n",
    "            pass\n",
    "    \n",
    "    #Build Dataframe\n",
    "    df = pd.DataFrame(elements, columns=['timestamp','AP','message'])\n",
    "    df.drop_duplicates(inplace=True)\n",
    "    \n",
    "    df['Disassociating'] = df.message.str.extract(r'Disassociating (\\w+)', expand=False)\n",
    "    df['Station'] = df.message.str.extract(r'Station (\\w+)', expand=False)\n",
    "    df['Action'] = df.message.str.extract(r'Station \\w+ (\\w+)', expand=False)\n",
    "    \n",
    "    df.ix[ ~ df.Disassociating.isnull(),'Station'] = df.ix[ ~ df.Disassociating.isnull(),'Disassociating']\n",
    "    df.ix[ ~ df.Disassociating.isnull(),'Action'] = 'Disassociating'\n",
    "    \n",
    "    df['Deauthenticating'] = df.message.str.extract(r'Deauthenticating (\\w+)', expand=False)\n",
    "    df.ix[ ~ df.Deauthenticating.isnull(),'Station'] = df.ix[ ~ df.Deauthenticating.isnull(),'Deauthenticating']\n",
    "    df.ix[ ~ df.Deauthenticating.isnull(),'Action'] = 'Deauthenticating'\n",
    "    \n",
    "    df.drop(['Disassociating','Deauthenticating'], axis=1, inplace=True)\n",
    "    \n",
    "    \n",
    "    df['BuildingType'] = df.AP.str.extract(r'(\\w+)Bldg', expand=False)\n",
    "    df['BuildingNumber'] = df.AP.str.extract(r'Bldg(\\d+)', expand=False)\n",
    "    df['APnumber'] = df.AP.str.extract(r'AP(\\d+)', expand=False)\n",
    "    df['BuildingId'] = df.BuildingType + df.BuildingNumber\n",
    "    return df"
   ]
  },
  {
   "cell_type": "code",
   "execution_count": 5,
   "metadata": {
    "collapsed": true
   },
   "outputs": [],
   "source": [
    "fname = \"/home/michael/Documents/syslog-v3.3/20010411.log\"\n",
    "df = loadData(fname)"
   ]
  },
  {
   "cell_type": "markdown",
   "metadata": {},
   "source": [
    "# Write the data into neo4j"
   ]
  },
  {
   "cell_type": "code",
   "execution_count": 40,
   "metadata": {
    "collapsed": false
   },
   "outputs": [
    {
     "data": {
      "text/plain": [
       "<py2neo.database.Cursor at 0x7ff9a302eed0>"
      ]
     },
     "execution_count": 40,
     "metadata": {},
     "output_type": "execute_result"
    }
   ],
   "source": [
    "#erase db\n",
    "graph.run('''\n",
    "MATCH (n)\n",
    "DETACH DELETE n\n",
    "''')"
   ]
  },
  {
   "cell_type": "code",
   "execution_count": 41,
   "metadata": {
    "collapsed": true,
    "scrolled": true
   },
   "outputs": [],
   "source": [
    "def write_df(df):\n",
    "    departements = list(set(df.BuildingType))\n",
    "    buildings = list(set(df.BuildingId))\n",
    "    ap = list(set(df.AP))\n",
    "    stations = list(set(df.ix[~df.Station.isnull(),'Station']))\n",
    "    \n",
    "    \n",
    "    for d in departements:\n",
    "        graph.run('''\n",
    "        MERGE (:DEPARTEMENT {Type: {N}})\n",
    "        ''', {'N': d})\n",
    "        \n",
    "    x = graph.run('''\n",
    "        MATCH (d:DEPARTEMENT)\n",
    "        RETURN COUNT(d) AS DEPARTEMENT\n",
    "    ''').data()[0]\n",
    "    \n",
    "    print(\"Writing %d departments\" % x['DEPARTEMENT'])\n",
    "    \n",
    "    print(\"writing buildings\")\n",
    "    for b in buildings:\n",
    "        graph.run('''\n",
    "        MERGE (:BUILDING {Number: {N}})\n",
    "        ''', {'N': b})\n",
    "        \n",
    "    x = graph.run('''\n",
    "        MATCH (d:BUILDING)\n",
    "        RETURN COUNT(d) AS BUILDING\n",
    "    ''').data()[0]\n",
    "    \n",
    "    print(\"Writing %d buildings\" % x['BUILDING'])\n",
    "\n",
    "    print(\"writing AP\")\n",
    "    for a in ap:\n",
    "        graph.run('''\n",
    "        MERGE (:AP {Number: {N}})\n",
    "        ''', {'N': a})\n",
    "        \n",
    "    x = graph.run('''\n",
    "        MATCH (d:AP)\n",
    "        RETURN COUNT(d) AS AP\n",
    "    ''').data()[0]\n",
    "    \n",
    "    print(\"Writing %d APs\" % x['AP'])\n",
    "    \n",
    "    print(\"Create relationships...\")\n",
    "    for i,row in df.iterrows():\n",
    "        graph.run('''\n",
    "\n",
    "        MATCH (d:DEPARTEMENT), (b:BUILDING)\n",
    "        WHERE d.Type = {DEP} AND b.Number = {BUILD}\n",
    "        MERGE (d)-[:HAS_BUILDING]->(b)\n",
    "\n",
    "        ''',{'DEP':row.BuildingType, 'BUILD':row.BuildingId})\n",
    "        \n",
    "    for i,row in df.iterrows():\n",
    "        graph.run('''\n",
    "\n",
    "        MATCH (b:BUILDING), (a:AP)\n",
    "        WHERE b.Number = {BUILD} AND a.Number = {AP}\n",
    "        MERGE (b)-[:HAS_AP]->(a)\n",
    "\n",
    "        ''',{'BUILD':row.BuildingId, 'AP':row.AP})\n",
    "\n",
    "    \n",
    "    print(\"writing stations\")\n",
    "    for s in stations:\n",
    "        graph.run('''\n",
    "        MERGE (:STATION {Number: {N}})\n",
    "        ''', {'N': s})\n",
    "    \n",
    "    #create index\n",
    "    graph.run('''\n",
    "    CREATE INDEX ON :STATION(Number)\n",
    "    ''')\n",
    "    \n",
    "    print(\"Create relationships...\")\n",
    "    for i,row in df.iterrows():\n",
    "        graph.run('''\n",
    "\n",
    "        MATCH (s:STATION), (a:AP)\n",
    "        USING INDEX s:STATION(Number)\n",
    "        WHERE s.Number = {NUM} AND a.Number = {AP}\n",
    "        MERGE (s)-[:INTERACT {Action: {R}, Timestamp: toInteger({T})}]->(a)\n",
    "\n",
    "        ''',{'NUM':row.Station,'AP':row.AP, 'R':row.Action, 'T': row.timestamp})\n",
    "    \n"
   ]
  },
  {
   "cell_type": "code",
   "execution_count": 42,
   "metadata": {
    "collapsed": false
   },
   "outputs": [
    {
     "name": "stdout",
     "output_type": "stream",
     "text": [
      "Writing 4 departments\n",
      "writing buildings\n",
      "Writing 9 buildings\n",
      "writing AP\n",
      "Writing 28 APs\n",
      "Create relationships...\n",
      "writing stations\n",
      "Create relationships...\n"
     ]
    }
   ],
   "source": [
    "write_df(df)"
   ]
  },
  {
   "cell_type": "code",
   "execution_count": 44,
   "metadata": {
    "collapsed": false
   },
   "outputs": [
    {
     "data": {
      "text/plain": [
       "{u'ACTIONS': 9078}"
      ]
     },
     "execution_count": 44,
     "metadata": {},
     "output_type": "execute_result"
    }
   ],
   "source": [
    "graph.run('''\n",
    "MATCH (s:STATION)-[r]->(:AP)\n",
    "RETURN COUNT(r) AS ACTIONS\n",
    "''').data()[0]"
   ]
  },
  {
   "cell_type": "code",
   "execution_count": null,
   "metadata": {
    "collapsed": true
   },
   "outputs": [],
   "source": []
  }
 ],
 "metadata": {
  "kernelspec": {
   "display_name": "Python 2",
   "language": "python",
   "name": "tensorflow"
  },
  "language_info": {
   "codemirror_mode": {
    "name": "ipython",
    "version": 2
   },
   "file_extension": ".py",
   "mimetype": "text/x-python",
   "name": "python",
   "nbconvert_exporter": "python",
   "pygments_lexer": "ipython2",
   "version": "2.7.12"
  }
 },
 "nbformat": 4,
 "nbformat_minor": 0
}
