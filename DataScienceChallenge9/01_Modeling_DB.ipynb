{
 "cells": [
  {
   "cell_type": "markdown",
   "metadata": {},
   "source": [
    "## Modeling the Neo4j DB\n",
    "\n"
   ]
  },
  {
   "cell_type": "raw",
   "metadata": {},
   "source": [
    "\n",
    "(Departement{Type:})-[Has_Building]->(Building)\n",
    "\n",
    "(Building {Number:})-[Has_AP]->(AP{Number:})\n",
    "\n",
    "(Station{MAC:})-[Associated{Time:}]->(AP{Number:})\n",
    "(Station{MAC:})-[Authenticated{Time:}]->(AP{Number:})\n",
    "(Station{MAC:})-[Deauthenticating{Time:}]->(AP{Number:})\n",
    "(Station{MAC:})-[Disassociating{Time:}]->(AP{Number:})\n",
    "(Station{MAC:})-[Reassociated{Time:}]->(AP{Number:})\n",
    "(Station{MAC:})-[roamed{Time:}]->(AP{Number:})\n"
   ]
  },
  {
   "cell_type": "code",
   "execution_count": 1,
   "metadata": {
    "collapsed": false
   },
   "outputs": [
    {
     "name": "stderr",
     "output_type": "stream",
     "text": [
      "/home/michael/anaconda2/lib/python2.7/site-packages/pandas/computation/__init__.py:19: UserWarning: The installed version of numexpr 2.4.4 is not supported in pandas and will be not be used\n",
      "\n",
      "  UserWarning)\n"
     ]
    }
   ],
   "source": [
    "import pandas as pd"
   ]
  },
  {
   "cell_type": "code",
   "execution_count": 79,
   "metadata": {
    "collapsed": true
   },
   "outputs": [],
   "source": [
    "def loadData(filePath):\n",
    "    with open(filePath) as f:\n",
    "        data = f.read().split('\\n')\n",
    "    elements = []\n",
    "    for line in data:\n",
    "        el = line.split()\n",
    "        try:\n",
    "            elements.append([el[0],el[4], ' '.join(el[7:])])\n",
    "        except:\n",
    "            pass\n",
    "    \n",
    "    #Build Dataframe\n",
    "    df = pd.DataFrame(elements, columns=['timestamp','AP','message'])\n",
    "    df.drop_duplicates(inplace=True)\n",
    "    \n",
    "    df['Disassociating'] = df.message.str.extract(r'Disassociating (\\w+)', expand=False)\n",
    "    df['Station'] = df.message.str.extract(r'Station (\\w+)', expand=False)\n",
    "    df['Action'] = df.message.str.extract(r'Station \\w+ (\\w+)', expand=False)\n",
    "    \n",
    "    df.ix[ ~ df.Disassociating.isnull(),'Station'] = df.ix[ ~ df.Disassociating.isnull(),'Disassociating']\n",
    "    df.ix[ ~ df.Disassociating.isnull(),'Action'] = 'Disassociating'\n",
    "    \n",
    "    df['Deauthenticating'] = df.message.str.extract(r'Deauthenticating (\\w+)', expand=False)\n",
    "    df.ix[ ~ df.Deauthenticating.isnull(),'Station'] = df.ix[ ~ df.Deauthenticating.isnull(),'Deauthenticating']\n",
    "    df.ix[ ~ df.Deauthenticating.isnull(),'Action'] = 'Deauthenticating'\n",
    "    \n",
    "    df.drop(['Disassociating','Deauthenticating'], axis=1, inplace=True)\n",
    "    \n",
    "    \n",
    "    df['BuildingType'] = df.AP.str.extract(r'(\\w+)Bldg', expand=False)\n",
    "    df['BuildingNumber'] = df.AP.str.extract(r'Bldg(\\d+)', expand=False)\n",
    "    df['APnumber'] = df.AP.str.extract(r'AP(\\d+)', expand=False)\n",
    "    df['BuildingId'] = df.BuildingType + df.BuildingNumber\n",
    "    return df"
   ]
  },
  {
   "cell_type": "code",
   "execution_count": 80,
   "metadata": {
    "collapsed": true
   },
   "outputs": [],
   "source": [
    "fname = \"/home/michael/Documents/syslog-v3.3/20010411.log\""
   ]
  },
  {
   "cell_type": "code",
   "execution_count": 81,
   "metadata": {
    "collapsed": false
   },
   "outputs": [],
   "source": [
    "df = loadData(fname)"
   ]
  },
  {
   "cell_type": "code",
   "execution_count": 82,
   "metadata": {
    "collapsed": false
   },
   "outputs": [
    {
     "data": {
      "text/html": [
       "<div>\n",
       "<table border=\"1\" class=\"dataframe\">\n",
       "  <thead>\n",
       "    <tr style=\"text-align: right;\">\n",
       "      <th></th>\n",
       "      <th>timestamp</th>\n",
       "      <th>AP</th>\n",
       "      <th>message</th>\n",
       "      <th>Station</th>\n",
       "      <th>Action</th>\n",
       "      <th>BuildingType</th>\n",
       "      <th>BuildingNumber</th>\n",
       "      <th>APnumber</th>\n",
       "      <th>BuildingId</th>\n",
       "    </tr>\n",
       "  </thead>\n",
       "  <tbody>\n",
       "    <tr>\n",
       "      <th>0</th>\n",
       "      <td>986990216</td>\n",
       "      <td>AdmBldg19AP3</td>\n",
       "      <td>Station 0040961e58be Authenticated</td>\n",
       "      <td>0040961e58be</td>\n",
       "      <td>Authenticated</td>\n",
       "      <td>Adm</td>\n",
       "      <td>19</td>\n",
       "      <td>3</td>\n",
       "      <td>Adm19</td>\n",
       "    </tr>\n",
       "    <tr>\n",
       "      <th>1</th>\n",
       "      <td>986990247</td>\n",
       "      <td>AdmBldg19AP3</td>\n",
       "      <td>Station 0040961e58be Authenticated</td>\n",
       "      <td>0040961e58be</td>\n",
       "      <td>Authenticated</td>\n",
       "      <td>Adm</td>\n",
       "      <td>19</td>\n",
       "      <td>3</td>\n",
       "      <td>Adm19</td>\n",
       "    </tr>\n",
       "    <tr>\n",
       "      <th>2</th>\n",
       "      <td>986990247</td>\n",
       "      <td>AdmBldg19AP3</td>\n",
       "      <td>Station 0040961e58be Associated</td>\n",
       "      <td>0040961e58be</td>\n",
       "      <td>Associated</td>\n",
       "      <td>Adm</td>\n",
       "      <td>19</td>\n",
       "      <td>3</td>\n",
       "      <td>Adm19</td>\n",
       "    </tr>\n",
       "    <tr>\n",
       "      <th>3</th>\n",
       "      <td>986990293</td>\n",
       "      <td>AdmBldg19AP3</td>\n",
       "      <td>Station 0040961e58be Authenticated</td>\n",
       "      <td>0040961e58be</td>\n",
       "      <td>Authenticated</td>\n",
       "      <td>Adm</td>\n",
       "      <td>19</td>\n",
       "      <td>3</td>\n",
       "      <td>Adm19</td>\n",
       "    </tr>\n",
       "    <tr>\n",
       "      <th>4</th>\n",
       "      <td>986990364</td>\n",
       "      <td>AdmBldg19AP3</td>\n",
       "      <td>Station 0040961e58be Authenticated</td>\n",
       "      <td>0040961e58be</td>\n",
       "      <td>Authenticated</td>\n",
       "      <td>Adm</td>\n",
       "      <td>19</td>\n",
       "      <td>3</td>\n",
       "      <td>Adm19</td>\n",
       "    </tr>\n",
       "  </tbody>\n",
       "</table>\n",
       "</div>"
      ],
      "text/plain": [
       "   timestamp            AP                             message       Station  \\\n",
       "0  986990216  AdmBldg19AP3  Station 0040961e58be Authenticated  0040961e58be   \n",
       "1  986990247  AdmBldg19AP3  Station 0040961e58be Authenticated  0040961e58be   \n",
       "2  986990247  AdmBldg19AP3     Station 0040961e58be Associated  0040961e58be   \n",
       "3  986990293  AdmBldg19AP3  Station 0040961e58be Authenticated  0040961e58be   \n",
       "4  986990364  AdmBldg19AP3  Station 0040961e58be Authenticated  0040961e58be   \n",
       "\n",
       "          Action BuildingType BuildingNumber APnumber BuildingId  \n",
       "0  Authenticated          Adm             19        3      Adm19  \n",
       "1  Authenticated          Adm             19        3      Adm19  \n",
       "2     Associated          Adm             19        3      Adm19  \n",
       "3  Authenticated          Adm             19        3      Adm19  \n",
       "4  Authenticated          Adm             19        3      Adm19  "
      ]
     },
     "execution_count": 82,
     "metadata": {},
     "output_type": "execute_result"
    }
   ],
   "source": [
    "df.head()"
   ]
  },
  {
   "cell_type": "code",
   "execution_count": 5,
   "metadata": {
    "collapsed": false
   },
   "outputs": [],
   "source": [
    "from py2neo import Graph, authenticate, Relationship"
   ]
  },
  {
   "cell_type": "code",
   "execution_count": 6,
   "metadata": {
    "collapsed": true
   },
   "outputs": [],
   "source": [
    "graph = Graph(user=\"neo4j\", password=\"admin\")"
   ]
  },
  {
   "cell_type": "code",
   "execution_count": 83,
   "metadata": {
    "collapsed": false
   },
   "outputs": [
    {
     "data": {
      "text/plain": [
       "<py2neo.database.Cursor at 0x7fab5feb1a90>"
      ]
     },
     "execution_count": 83,
     "metadata": {},
     "output_type": "execute_result"
    }
   ],
   "source": [
    "#erase db\n",
    "graph.run('''\n",
    "MATCH (n)\n",
    "DETACH DELETE n\n",
    "''')"
   ]
  },
  {
   "cell_type": "markdown",
   "metadata": {},
   "source": [
    "## Add nodes"
   ]
  },
  {
   "cell_type": "code",
   "execution_count": 84,
   "metadata": {
    "collapsed": false
   },
   "outputs": [
    {
     "data": {
      "text/plain": [
       "['Soc', 'Adm', 'Lib', 'Acad']"
      ]
     },
     "execution_count": 84,
     "metadata": {},
     "output_type": "execute_result"
    }
   ],
   "source": [
    "departements = list(set(df.BuildingType))\n",
    "departements"
   ]
  },
  {
   "cell_type": "code",
   "execution_count": 88,
   "metadata": {
    "collapsed": false
   },
   "outputs": [
    {
     "data": {
      "text/plain": [
       "['Acad1',\n",
       " 'Acad4',\n",
       " 'Acad33',\n",
       " 'Acad16',\n",
       " 'Soc1',\n",
       " 'Adm19',\n",
       " 'Adm16',\n",
       " 'Lib2',\n",
       " 'Adm12']"
      ]
     },
     "execution_count": 88,
     "metadata": {},
     "output_type": "execute_result"
    }
   ],
   "source": [
    "buildings = list(set(df.BuildingId))\n",
    "buildings"
   ]
  },
  {
   "cell_type": "code",
   "execution_count": 89,
   "metadata": {
    "collapsed": false
   },
   "outputs": [],
   "source": [
    "ap = list(set(df.AP))"
   ]
  },
  {
   "cell_type": "code",
   "execution_count": 91,
   "metadata": {
    "collapsed": false
   },
   "outputs": [],
   "source": [
    "for d in departements:\n",
    "    graph.run('''\n",
    "    MERGE (:DEPARTEMENT {Type: {N}})\n",
    "    ''', {'N': d})"
   ]
  },
  {
   "cell_type": "code",
   "execution_count": 92,
   "metadata": {
    "collapsed": true
   },
   "outputs": [],
   "source": [
    "for b in buildings:\n",
    "    graph.run('''\n",
    "    MERGE (:BUILDING {Number: {N}})\n",
    "    ''', {'N': b})"
   ]
  },
  {
   "cell_type": "code",
   "execution_count": 93,
   "metadata": {
    "collapsed": true
   },
   "outputs": [],
   "source": [
    "for a in ap:\n",
    "    graph.run('''\n",
    "    MERGE (:AP {Number: {N}})\n",
    "    ''', {'N': a})"
   ]
  },
  {
   "cell_type": "code",
   "execution_count": 94,
   "metadata": {
    "collapsed": true
   },
   "outputs": [],
   "source": [
    "for s in stations:\n",
    "    graph.run('''\n",
    "    MERGE (:STATION {Number: {N}})\n",
    "    ''', {'N': s})"
   ]
  },
  {
   "cell_type": "code",
   "execution_count": 97,
   "metadata": {
    "collapsed": false
   },
   "outputs": [],
   "source": [
    "for i,row in df.iterrows():\n",
    "    graph.run('''\n",
    "    \n",
    "    MATCH (d:DEPARTEMENT), (b:BUILDING), (a:AP)\n",
    "    \n",
    "    WHERE d.Type = {DEP} AND b.Number = {BUILD} AND a.Number = {AP}\n",
    "    \n",
    "    MERGE (d)-[:HAS_BUILDING]->(b)\n",
    "    MERGE (b)-[:HAS_AP]->(a)\n",
    "    \n",
    "    ''',{'DEP':row.BuildingType, 'BUILD':row.BuildingId, 'AP':row.AP})"
   ]
  },
  {
   "cell_type": "code",
   "execution_count": 98,
   "metadata": {
    "collapsed": false
   },
   "outputs": [
    {
     "data": {
      "text/plain": [
       "[{u'b': (b71f647:BUILDING {Number:\"Acad1\"}),\n",
       "  u'n': (d537538:DEPARTEMENT {Type:\"Acad\"}),\n",
       "  u'r': (d537538)-[:HAS_BUILDING]->(b71f647)},\n",
       " {u'b': (e8e3e24:BUILDING {Number:\"Acad4\"}),\n",
       "  u'n': (d537538:DEPARTEMENT {Type:\"Acad\"}),\n",
       "  u'r': (d537538)-[:HAS_BUILDING]->(e8e3e24)},\n",
       " {u'b': (b55ed53:BUILDING {Number:\"Acad33\"}),\n",
       "  u'n': (d537538:DEPARTEMENT {Type:\"Acad\"}),\n",
       "  u'r': (d537538)-[:HAS_BUILDING]->(b55ed53)}]"
      ]
     },
     "execution_count": 98,
     "metadata": {},
     "output_type": "execute_result"
    }
   ],
   "source": [
    "graph.run('''\n",
    "MATCH (n)-[r]->(b)\n",
    "RETURN * LIMIT 3\n",
    "''').data()"
   ]
  },
  {
   "cell_type": "markdown",
   "metadata": {},
   "source": [
    "## Add the stations\n",
    "\n"
   ]
  },
  {
   "cell_type": "raw",
   "metadata": {},
   "source": [
    "(:STATION)-[:ACTION {Timestamp}]->(:AP)<-[:HAS_AP]-(:BUILDING)"
   ]
  },
  {
   "cell_type": "code",
   "execution_count": 99,
   "metadata": {
    "collapsed": false
   },
   "outputs": [
    {
     "data": {
      "text/plain": [
       "{nan,\n",
       " 'Associated',\n",
       " 'Authenticated',\n",
       " 'Deauthenticating',\n",
       " 'Disassociating',\n",
       " 'Reassociated',\n",
       " 'roamed'}"
      ]
     },
     "execution_count": 99,
     "metadata": {},
     "output_type": "execute_result"
    }
   ],
   "source": [
    "set(df.Action)"
   ]
  },
  {
   "cell_type": "code",
   "execution_count": 90,
   "metadata": {
    "collapsed": false
   },
   "outputs": [],
   "source": [
    "stations = list(set(df.ix[~df.Station.isnull(),'Station']))"
   ]
  },
  {
   "cell_type": "code",
   "execution_count": 100,
   "metadata": {
    "collapsed": false
   },
   "outputs": [
    {
     "data": {
      "text/plain": [
       "28"
      ]
     },
     "execution_count": 100,
     "metadata": {},
     "output_type": "execute_result"
    }
   ],
   "source": [
    "len(stations)"
   ]
  },
  {
   "cell_type": "code",
   "execution_count": 102,
   "metadata": {
    "collapsed": false
   },
   "outputs": [],
   "source": [
    "for i,row in df.iterrows():\n",
    "    graph.run('''\n",
    "    \n",
    "    MATCH (s:STATION), (b:BUILDING), (a:AP)\n",
    "    \n",
    "    WHERE s.Number = {NUM} AND b.Number = {BUILD} AND a.Number = {AP}\n",
    "    \n",
    "    MERGE (s)-[:INTERACT {Action: {R}, Timestamp: toInteger({T})}]->(a)<-[:HAS_AP]-(b)\n",
    "    \n",
    "    \n",
    "    ''',{'NUM':row.Station, 'BUILD':row.BuildingId, 'AP':row.AP, 'R':row.Action, 'T': row.timestamp})"
   ]
  },
  {
   "cell_type": "code",
   "execution_count": 136,
   "metadata": {
    "collapsed": false
   },
   "outputs": [
    {
     "data": {
      "text/plain": [
       "[{u'BUILDING': u'AcadBldg33AP6', u'INTERACTIONS': 3, u'NUM_APs': 1},\n",
       " {u'BUILDING': u'AcadBldg33AP5', u'INTERACTIONS': 4, u'NUM_APs': 1},\n",
       " {u'BUILDING': u'LibBldg2AP7', u'INTERACTIONS': 143, u'NUM_APs': 1},\n",
       " {u'BUILDING': u'AcadBldg33AP1', u'INTERACTIONS': 7, u'NUM_APs': 1}]"
      ]
     },
     "execution_count": 136,
     "metadata": {},
     "output_type": "execute_result"
    }
   ],
   "source": [
    "graph.run('''\n",
    "MATCH (s:STATION)-[r]->(a:AP)\n",
    "WHERE s.Number = \"00409699915b\"\n",
    "RETURN COUNT(r) AS INTERACTIONS, a.Number AS BUILDING, COUNT(DISTINCT a.Number) AS NUM_APs\n",
    "''').data()"
   ]
  },
  {
   "cell_type": "markdown",
   "metadata": {},
   "source": [
    "This station went to the Academic building 33, but spent most of the day at the library."
   ]
  },
  {
   "cell_type": "markdown",
   "metadata": {},
   "source": [
    "## What is the sequence of interactions between the stations and APs ?"
   ]
  },
  {
   "cell_type": "code",
   "execution_count": 133,
   "metadata": {
    "collapsed": false
   },
   "outputs": [],
   "source": [
    "actions = graph.run('''\n",
    "MATCH (s:STATION)-[r]->(a:AP)\n",
    "WHERE s.Number = \"00409699915b\"\n",
    "\n",
    "RETURN COLLECT(r.Action) AS ACTIONS\n",
    "''').data()"
   ]
  },
  {
   "cell_type": "code",
   "execution_count": 134,
   "metadata": {
    "collapsed": true
   },
   "outputs": [],
   "source": [
    "from collections import Counter"
   ]
  },
  {
   "cell_type": "code",
   "execution_count": 135,
   "metadata": {
    "collapsed": false
   },
   "outputs": [
    {
     "data": {
      "text/plain": [
       "Counter({u'Associated': 75,\n",
       "         u'Authenticated': 75,\n",
       "         u'Deauthenticating': 4,\n",
       "         u'Reassociated': 1,\n",
       "         u'roamed': 2})"
      ]
     },
     "execution_count": 135,
     "metadata": {},
     "output_type": "execute_result"
    }
   ],
   "source": [
    "Counter(actions[0].values()[0])"
   ]
  },
  {
   "cell_type": "code",
   "execution_count": 132,
   "metadata": {
    "collapsed": false
   },
   "outputs": [
    {
     "data": {
      "text/html": [
       "<div>\n",
       "<table border=\"1\" class=\"dataframe\">\n",
       "  <thead>\n",
       "    <tr style=\"text-align: right;\">\n",
       "      <th></th>\n",
       "      <th>timestamp</th>\n",
       "      <th>AP</th>\n",
       "      <th>message</th>\n",
       "      <th>Station</th>\n",
       "      <th>Action</th>\n",
       "      <th>BuildingType</th>\n",
       "      <th>BuildingNumber</th>\n",
       "      <th>APnumber</th>\n",
       "      <th>BuildingId</th>\n",
       "    </tr>\n",
       "  </thead>\n",
       "  <tbody>\n",
       "    <tr>\n",
       "      <th>72</th>\n",
       "      <td>986992653</td>\n",
       "      <td>AcadBldg33AP1</td>\n",
       "      <td>Station 00409699915b Authenticated</td>\n",
       "      <td>00409699915b</td>\n",
       "      <td>Authenticated</td>\n",
       "      <td>Acad</td>\n",
       "      <td>33</td>\n",
       "      <td>1</td>\n",
       "      <td>Acad33</td>\n",
       "    </tr>\n",
       "    <tr>\n",
       "      <th>73</th>\n",
       "      <td>986992653</td>\n",
       "      <td>AcadBldg33AP1</td>\n",
       "      <td>Station 00409699915b Associated</td>\n",
       "      <td>00409699915b</td>\n",
       "      <td>Associated</td>\n",
       "      <td>Acad</td>\n",
       "      <td>33</td>\n",
       "      <td>1</td>\n",
       "      <td>Acad33</td>\n",
       "    </tr>\n",
       "    <tr>\n",
       "      <th>74</th>\n",
       "      <td>986992654</td>\n",
       "      <td>AcadBldg33AP1</td>\n",
       "      <td>Station 00409699915b Authenticated</td>\n",
       "      <td>00409699915b</td>\n",
       "      <td>Authenticated</td>\n",
       "      <td>Acad</td>\n",
       "      <td>33</td>\n",
       "      <td>1</td>\n",
       "      <td>Acad33</td>\n",
       "    </tr>\n",
       "    <tr>\n",
       "      <th>75</th>\n",
       "      <td>986992654</td>\n",
       "      <td>AcadBldg33AP1</td>\n",
       "      <td>Station 00409699915b Associated</td>\n",
       "      <td>00409699915b</td>\n",
       "      <td>Associated</td>\n",
       "      <td>Acad</td>\n",
       "      <td>33</td>\n",
       "      <td>1</td>\n",
       "      <td>Acad33</td>\n",
       "    </tr>\n",
       "    <tr>\n",
       "      <th>76</th>\n",
       "      <td>986992656</td>\n",
       "      <td>AcadBldg33AP1</td>\n",
       "      <td>Station 00409699915b Authenticated</td>\n",
       "      <td>00409699915b</td>\n",
       "      <td>Authenticated</td>\n",
       "      <td>Acad</td>\n",
       "      <td>33</td>\n",
       "      <td>1</td>\n",
       "      <td>Acad33</td>\n",
       "    </tr>\n",
       "    <tr>\n",
       "      <th>77</th>\n",
       "      <td>986992656</td>\n",
       "      <td>AcadBldg33AP1</td>\n",
       "      <td>Station 00409699915b Associated</td>\n",
       "      <td>00409699915b</td>\n",
       "      <td>Associated</td>\n",
       "      <td>Acad</td>\n",
       "      <td>33</td>\n",
       "      <td>1</td>\n",
       "      <td>Acad33</td>\n",
       "    </tr>\n",
       "    <tr>\n",
       "      <th>80</th>\n",
       "      <td>986992777</td>\n",
       "      <td>AcadBldg33AP6</td>\n",
       "      <td>Station 00409699915b Authenticated</td>\n",
       "      <td>00409699915b</td>\n",
       "      <td>Authenticated</td>\n",
       "      <td>Acad</td>\n",
       "      <td>33</td>\n",
       "      <td>6</td>\n",
       "      <td>Acad33</td>\n",
       "    </tr>\n",
       "    <tr>\n",
       "      <th>81</th>\n",
       "      <td>986992777</td>\n",
       "      <td>AcadBldg33AP6</td>\n",
       "      <td>Station 00409699915b Associated</td>\n",
       "      <td>00409699915b</td>\n",
       "      <td>Associated</td>\n",
       "      <td>Acad</td>\n",
       "      <td>33</td>\n",
       "      <td>6</td>\n",
       "      <td>Acad33</td>\n",
       "    </tr>\n",
       "    <tr>\n",
       "      <th>82</th>\n",
       "      <td>986992777</td>\n",
       "      <td>AcadBldg33AP1</td>\n",
       "      <td>Station 00409699915b roamed</td>\n",
       "      <td>00409699915b</td>\n",
       "      <td>roamed</td>\n",
       "      <td>Acad</td>\n",
       "      <td>33</td>\n",
       "      <td>1</td>\n",
       "      <td>Acad33</td>\n",
       "    </tr>\n",
       "    <tr>\n",
       "      <th>86</th>\n",
       "      <td>986993050</td>\n",
       "      <td>AcadBldg33AP5</td>\n",
       "      <td>Station 00409699915b Authenticated</td>\n",
       "      <td>00409699915b</td>\n",
       "      <td>Authenticated</td>\n",
       "      <td>Acad</td>\n",
       "      <td>33</td>\n",
       "      <td>5</td>\n",
       "      <td>Acad33</td>\n",
       "    </tr>\n",
       "    <tr>\n",
       "      <th>87</th>\n",
       "      <td>986993050</td>\n",
       "      <td>AcadBldg33AP5</td>\n",
       "      <td>Station 00409699915b Reassociated</td>\n",
       "      <td>00409699915b</td>\n",
       "      <td>Reassociated</td>\n",
       "      <td>Acad</td>\n",
       "      <td>33</td>\n",
       "      <td>5</td>\n",
       "      <td>Acad33</td>\n",
       "    </tr>\n",
       "    <tr>\n",
       "      <th>88</th>\n",
       "      <td>986993050</td>\n",
       "      <td>AcadBldg33AP6</td>\n",
       "      <td>Station 00409699915b roamed</td>\n",
       "      <td>00409699915b</td>\n",
       "      <td>roamed</td>\n",
       "      <td>Acad</td>\n",
       "      <td>33</td>\n",
       "      <td>6</td>\n",
       "      <td>Acad33</td>\n",
       "    </tr>\n",
       "    <tr>\n",
       "      <th>91</th>\n",
       "      <td>986993050</td>\n",
       "      <td>AcadBldg33AP5</td>\n",
       "      <td>Station 00409699915b Associated</td>\n",
       "      <td>00409699915b</td>\n",
       "      <td>Associated</td>\n",
       "      <td>Acad</td>\n",
       "      <td>33</td>\n",
       "      <td>5</td>\n",
       "      <td>Acad33</td>\n",
       "    </tr>\n",
       "    <tr>\n",
       "      <th>111</th>\n",
       "      <td>986994928</td>\n",
       "      <td>AcadBldg33AP5</td>\n",
       "      <td>Deauthenticating 00409699915b, reason \"Inactiv...</td>\n",
       "      <td>00409699915b</td>\n",
       "      <td>Deauthenticating</td>\n",
       "      <td>Acad</td>\n",
       "      <td>33</td>\n",
       "      <td>5</td>\n",
       "      <td>Acad33</td>\n",
       "    </tr>\n",
       "    <tr>\n",
       "      <th>1171</th>\n",
       "      <td>987003728</td>\n",
       "      <td>LibBldg2AP7</td>\n",
       "      <td>Station 00409699915b Authenticated</td>\n",
       "      <td>00409699915b</td>\n",
       "      <td>Authenticated</td>\n",
       "      <td>Lib</td>\n",
       "      <td>2</td>\n",
       "      <td>7</td>\n",
       "      <td>Lib2</td>\n",
       "    </tr>\n",
       "    <tr>\n",
       "      <th>1172</th>\n",
       "      <td>987003728</td>\n",
       "      <td>LibBldg2AP7</td>\n",
       "      <td>Station 00409699915b Associated</td>\n",
       "      <td>00409699915b</td>\n",
       "      <td>Associated</td>\n",
       "      <td>Lib</td>\n",
       "      <td>2</td>\n",
       "      <td>7</td>\n",
       "      <td>Lib2</td>\n",
       "    </tr>\n",
       "    <tr>\n",
       "      <th>1173</th>\n",
       "      <td>987003734</td>\n",
       "      <td>LibBldg2AP7</td>\n",
       "      <td>Station 00409699915b Authenticated</td>\n",
       "      <td>00409699915b</td>\n",
       "      <td>Authenticated</td>\n",
       "      <td>Lib</td>\n",
       "      <td>2</td>\n",
       "      <td>7</td>\n",
       "      <td>Lib2</td>\n",
       "    </tr>\n",
       "    <tr>\n",
       "      <th>1174</th>\n",
       "      <td>987003734</td>\n",
       "      <td>LibBldg2AP7</td>\n",
       "      <td>Station 00409699915b Associated</td>\n",
       "      <td>00409699915b</td>\n",
       "      <td>Associated</td>\n",
       "      <td>Lib</td>\n",
       "      <td>2</td>\n",
       "      <td>7</td>\n",
       "      <td>Lib2</td>\n",
       "    </tr>\n",
       "    <tr>\n",
       "      <th>1187</th>\n",
       "      <td>987003775</td>\n",
       "      <td>LibBldg2AP7</td>\n",
       "      <td>Station 00409699915b Authenticated</td>\n",
       "      <td>00409699915b</td>\n",
       "      <td>Authenticated</td>\n",
       "      <td>Lib</td>\n",
       "      <td>2</td>\n",
       "      <td>7</td>\n",
       "      <td>Lib2</td>\n",
       "    </tr>\n",
       "    <tr>\n",
       "      <th>1188</th>\n",
       "      <td>987003775</td>\n",
       "      <td>LibBldg2AP7</td>\n",
       "      <td>Station 00409699915b Associated</td>\n",
       "      <td>00409699915b</td>\n",
       "      <td>Associated</td>\n",
       "      <td>Lib</td>\n",
       "      <td>2</td>\n",
       "      <td>7</td>\n",
       "      <td>Lib2</td>\n",
       "    </tr>\n",
       "    <tr>\n",
       "      <th>1201</th>\n",
       "      <td>987003778</td>\n",
       "      <td>LibBldg2AP7</td>\n",
       "      <td>Station 00409699915b Authenticated</td>\n",
       "      <td>00409699915b</td>\n",
       "      <td>Authenticated</td>\n",
       "      <td>Lib</td>\n",
       "      <td>2</td>\n",
       "      <td>7</td>\n",
       "      <td>Lib2</td>\n",
       "    </tr>\n",
       "    <tr>\n",
       "      <th>1202</th>\n",
       "      <td>987003778</td>\n",
       "      <td>LibBldg2AP7</td>\n",
       "      <td>Station 00409699915b Associated</td>\n",
       "      <td>00409699915b</td>\n",
       "      <td>Associated</td>\n",
       "      <td>Lib</td>\n",
       "      <td>2</td>\n",
       "      <td>7</td>\n",
       "      <td>Lib2</td>\n",
       "    </tr>\n",
       "    <tr>\n",
       "      <th>1205</th>\n",
       "      <td>987003779</td>\n",
       "      <td>LibBldg2AP7</td>\n",
       "      <td>Station 00409699915b Authenticated</td>\n",
       "      <td>00409699915b</td>\n",
       "      <td>Authenticated</td>\n",
       "      <td>Lib</td>\n",
       "      <td>2</td>\n",
       "      <td>7</td>\n",
       "      <td>Lib2</td>\n",
       "    </tr>\n",
       "    <tr>\n",
       "      <th>1206</th>\n",
       "      <td>987003779</td>\n",
       "      <td>LibBldg2AP7</td>\n",
       "      <td>Station 00409699915b Associated</td>\n",
       "      <td>00409699915b</td>\n",
       "      <td>Associated</td>\n",
       "      <td>Lib</td>\n",
       "      <td>2</td>\n",
       "      <td>7</td>\n",
       "      <td>Lib2</td>\n",
       "    </tr>\n",
       "    <tr>\n",
       "      <th>1207</th>\n",
       "      <td>987003796</td>\n",
       "      <td>LibBldg2AP7</td>\n",
       "      <td>Station 00409699915b Authenticated</td>\n",
       "      <td>00409699915b</td>\n",
       "      <td>Authenticated</td>\n",
       "      <td>Lib</td>\n",
       "      <td>2</td>\n",
       "      <td>7</td>\n",
       "      <td>Lib2</td>\n",
       "    </tr>\n",
       "    <tr>\n",
       "      <th>1208</th>\n",
       "      <td>987003796</td>\n",
       "      <td>LibBldg2AP7</td>\n",
       "      <td>Station 00409699915b Associated</td>\n",
       "      <td>00409699915b</td>\n",
       "      <td>Associated</td>\n",
       "      <td>Lib</td>\n",
       "      <td>2</td>\n",
       "      <td>7</td>\n",
       "      <td>Lib2</td>\n",
       "    </tr>\n",
       "    <tr>\n",
       "      <th>1288</th>\n",
       "      <td>987005618</td>\n",
       "      <td>LibBldg2AP7</td>\n",
       "      <td>Deauthenticating 00409699915b, reason \"Inactiv...</td>\n",
       "      <td>00409699915b</td>\n",
       "      <td>Deauthenticating</td>\n",
       "      <td>Lib</td>\n",
       "      <td>2</td>\n",
       "      <td>7</td>\n",
       "      <td>Lib2</td>\n",
       "    </tr>\n",
       "    <tr>\n",
       "      <th>1325</th>\n",
       "      <td>987006888</td>\n",
       "      <td>LibBldg2AP7</td>\n",
       "      <td>Station 00409699915b Authenticated</td>\n",
       "      <td>00409699915b</td>\n",
       "      <td>Authenticated</td>\n",
       "      <td>Lib</td>\n",
       "      <td>2</td>\n",
       "      <td>7</td>\n",
       "      <td>Lib2</td>\n",
       "    </tr>\n",
       "    <tr>\n",
       "      <th>1326</th>\n",
       "      <td>987006888</td>\n",
       "      <td>LibBldg2AP7</td>\n",
       "      <td>Station 00409699915b Associated</td>\n",
       "      <td>00409699915b</td>\n",
       "      <td>Associated</td>\n",
       "      <td>Lib</td>\n",
       "      <td>2</td>\n",
       "      <td>7</td>\n",
       "      <td>Lib2</td>\n",
       "    </tr>\n",
       "    <tr>\n",
       "      <th>1327</th>\n",
       "      <td>987006924</td>\n",
       "      <td>LibBldg2AP7</td>\n",
       "      <td>Station 00409699915b Authenticated</td>\n",
       "      <td>00409699915b</td>\n",
       "      <td>Authenticated</td>\n",
       "      <td>Lib</td>\n",
       "      <td>2</td>\n",
       "      <td>7</td>\n",
       "      <td>Lib2</td>\n",
       "    </tr>\n",
       "    <tr>\n",
       "      <th>...</th>\n",
       "      <td>...</td>\n",
       "      <td>...</td>\n",
       "      <td>...</td>\n",
       "      <td>...</td>\n",
       "      <td>...</td>\n",
       "      <td>...</td>\n",
       "      <td>...</td>\n",
       "      <td>...</td>\n",
       "      <td>...</td>\n",
       "    </tr>\n",
       "    <tr>\n",
       "      <th>2002</th>\n",
       "      <td>987011242</td>\n",
       "      <td>LibBldg2AP7</td>\n",
       "      <td>Station 00409699915b Associated</td>\n",
       "      <td>00409699915b</td>\n",
       "      <td>Associated</td>\n",
       "      <td>Lib</td>\n",
       "      <td>2</td>\n",
       "      <td>7</td>\n",
       "      <td>Lib2</td>\n",
       "    </tr>\n",
       "    <tr>\n",
       "      <th>2019</th>\n",
       "      <td>987011259</td>\n",
       "      <td>LibBldg2AP7</td>\n",
       "      <td>Station 00409699915b Authenticated</td>\n",
       "      <td>00409699915b</td>\n",
       "      <td>Authenticated</td>\n",
       "      <td>Lib</td>\n",
       "      <td>2</td>\n",
       "      <td>7</td>\n",
       "      <td>Lib2</td>\n",
       "    </tr>\n",
       "    <tr>\n",
       "      <th>2020</th>\n",
       "      <td>987011259</td>\n",
       "      <td>LibBldg2AP7</td>\n",
       "      <td>Station 00409699915b Associated</td>\n",
       "      <td>00409699915b</td>\n",
       "      <td>Associated</td>\n",
       "      <td>Lib</td>\n",
       "      <td>2</td>\n",
       "      <td>7</td>\n",
       "      <td>Lib2</td>\n",
       "    </tr>\n",
       "    <tr>\n",
       "      <th>2042</th>\n",
       "      <td>987011283</td>\n",
       "      <td>LibBldg2AP7</td>\n",
       "      <td>Station 00409699915b Authenticated</td>\n",
       "      <td>00409699915b</td>\n",
       "      <td>Authenticated</td>\n",
       "      <td>Lib</td>\n",
       "      <td>2</td>\n",
       "      <td>7</td>\n",
       "      <td>Lib2</td>\n",
       "    </tr>\n",
       "    <tr>\n",
       "      <th>2043</th>\n",
       "      <td>987011283</td>\n",
       "      <td>LibBldg2AP7</td>\n",
       "      <td>Station 00409699915b Associated</td>\n",
       "      <td>00409699915b</td>\n",
       "      <td>Associated</td>\n",
       "      <td>Lib</td>\n",
       "      <td>2</td>\n",
       "      <td>7</td>\n",
       "      <td>Lib2</td>\n",
       "    </tr>\n",
       "    <tr>\n",
       "      <th>2050</th>\n",
       "      <td>987011289</td>\n",
       "      <td>LibBldg2AP7</td>\n",
       "      <td>Station 00409699915b Authenticated</td>\n",
       "      <td>00409699915b</td>\n",
       "      <td>Authenticated</td>\n",
       "      <td>Lib</td>\n",
       "      <td>2</td>\n",
       "      <td>7</td>\n",
       "      <td>Lib2</td>\n",
       "    </tr>\n",
       "    <tr>\n",
       "      <th>2051</th>\n",
       "      <td>987011289</td>\n",
       "      <td>LibBldg2AP7</td>\n",
       "      <td>Station 00409699915b Associated</td>\n",
       "      <td>00409699915b</td>\n",
       "      <td>Associated</td>\n",
       "      <td>Lib</td>\n",
       "      <td>2</td>\n",
       "      <td>7</td>\n",
       "      <td>Lib2</td>\n",
       "    </tr>\n",
       "    <tr>\n",
       "      <th>2070</th>\n",
       "      <td>987011306</td>\n",
       "      <td>LibBldg2AP7</td>\n",
       "      <td>Station 00409699915b Authenticated</td>\n",
       "      <td>00409699915b</td>\n",
       "      <td>Authenticated</td>\n",
       "      <td>Lib</td>\n",
       "      <td>2</td>\n",
       "      <td>7</td>\n",
       "      <td>Lib2</td>\n",
       "    </tr>\n",
       "    <tr>\n",
       "      <th>2071</th>\n",
       "      <td>987011306</td>\n",
       "      <td>LibBldg2AP7</td>\n",
       "      <td>Station 00409699915b Associated</td>\n",
       "      <td>00409699915b</td>\n",
       "      <td>Associated</td>\n",
       "      <td>Lib</td>\n",
       "      <td>2</td>\n",
       "      <td>7</td>\n",
       "      <td>Lib2</td>\n",
       "    </tr>\n",
       "    <tr>\n",
       "      <th>2079</th>\n",
       "      <td>987011313</td>\n",
       "      <td>LibBldg2AP7</td>\n",
       "      <td>Station 00409699915b Authenticated</td>\n",
       "      <td>00409699915b</td>\n",
       "      <td>Authenticated</td>\n",
       "      <td>Lib</td>\n",
       "      <td>2</td>\n",
       "      <td>7</td>\n",
       "      <td>Lib2</td>\n",
       "    </tr>\n",
       "    <tr>\n",
       "      <th>2080</th>\n",
       "      <td>987011313</td>\n",
       "      <td>LibBldg2AP7</td>\n",
       "      <td>Station 00409699915b Associated</td>\n",
       "      <td>00409699915b</td>\n",
       "      <td>Associated</td>\n",
       "      <td>Lib</td>\n",
       "      <td>2</td>\n",
       "      <td>7</td>\n",
       "      <td>Lib2</td>\n",
       "    </tr>\n",
       "    <tr>\n",
       "      <th>2095</th>\n",
       "      <td>987011330</td>\n",
       "      <td>LibBldg2AP7</td>\n",
       "      <td>Station 00409699915b Authenticated</td>\n",
       "      <td>00409699915b</td>\n",
       "      <td>Authenticated</td>\n",
       "      <td>Lib</td>\n",
       "      <td>2</td>\n",
       "      <td>7</td>\n",
       "      <td>Lib2</td>\n",
       "    </tr>\n",
       "    <tr>\n",
       "      <th>2096</th>\n",
       "      <td>987011330</td>\n",
       "      <td>LibBldg2AP7</td>\n",
       "      <td>Station 00409699915b Associated</td>\n",
       "      <td>00409699915b</td>\n",
       "      <td>Associated</td>\n",
       "      <td>Lib</td>\n",
       "      <td>2</td>\n",
       "      <td>7</td>\n",
       "      <td>Lib2</td>\n",
       "    </tr>\n",
       "    <tr>\n",
       "      <th>2102</th>\n",
       "      <td>987011336</td>\n",
       "      <td>LibBldg2AP7</td>\n",
       "      <td>Station 00409699915b Authenticated</td>\n",
       "      <td>00409699915b</td>\n",
       "      <td>Authenticated</td>\n",
       "      <td>Lib</td>\n",
       "      <td>2</td>\n",
       "      <td>7</td>\n",
       "      <td>Lib2</td>\n",
       "    </tr>\n",
       "    <tr>\n",
       "      <th>2103</th>\n",
       "      <td>987011336</td>\n",
       "      <td>LibBldg2AP7</td>\n",
       "      <td>Station 00409699915b Associated</td>\n",
       "      <td>00409699915b</td>\n",
       "      <td>Associated</td>\n",
       "      <td>Lib</td>\n",
       "      <td>2</td>\n",
       "      <td>7</td>\n",
       "      <td>Lib2</td>\n",
       "    </tr>\n",
       "    <tr>\n",
       "      <th>2132</th>\n",
       "      <td>987011369</td>\n",
       "      <td>LibBldg2AP7</td>\n",
       "      <td>Station 00409699915b Authenticated</td>\n",
       "      <td>00409699915b</td>\n",
       "      <td>Authenticated</td>\n",
       "      <td>Lib</td>\n",
       "      <td>2</td>\n",
       "      <td>7</td>\n",
       "      <td>Lib2</td>\n",
       "    </tr>\n",
       "    <tr>\n",
       "      <th>2133</th>\n",
       "      <td>987011369</td>\n",
       "      <td>LibBldg2AP7</td>\n",
       "      <td>Station 00409699915b Associated</td>\n",
       "      <td>00409699915b</td>\n",
       "      <td>Associated</td>\n",
       "      <td>Lib</td>\n",
       "      <td>2</td>\n",
       "      <td>7</td>\n",
       "      <td>Lib2</td>\n",
       "    </tr>\n",
       "    <tr>\n",
       "      <th>2273</th>\n",
       "      <td>987011681</td>\n",
       "      <td>LibBldg2AP7</td>\n",
       "      <td>Station 00409699915b Authenticated</td>\n",
       "      <td>00409699915b</td>\n",
       "      <td>Authenticated</td>\n",
       "      <td>Lib</td>\n",
       "      <td>2</td>\n",
       "      <td>7</td>\n",
       "      <td>Lib2</td>\n",
       "    </tr>\n",
       "    <tr>\n",
       "      <th>2274</th>\n",
       "      <td>987011681</td>\n",
       "      <td>LibBldg2AP7</td>\n",
       "      <td>Station 00409699915b Associated</td>\n",
       "      <td>00409699915b</td>\n",
       "      <td>Associated</td>\n",
       "      <td>Lib</td>\n",
       "      <td>2</td>\n",
       "      <td>7</td>\n",
       "      <td>Lib2</td>\n",
       "    </tr>\n",
       "    <tr>\n",
       "      <th>2277</th>\n",
       "      <td>987011682</td>\n",
       "      <td>LibBldg2AP7</td>\n",
       "      <td>Station 00409699915b Authenticated</td>\n",
       "      <td>00409699915b</td>\n",
       "      <td>Authenticated</td>\n",
       "      <td>Lib</td>\n",
       "      <td>2</td>\n",
       "      <td>7</td>\n",
       "      <td>Lib2</td>\n",
       "    </tr>\n",
       "    <tr>\n",
       "      <th>2278</th>\n",
       "      <td>987011682</td>\n",
       "      <td>LibBldg2AP7</td>\n",
       "      <td>Station 00409699915b Associated</td>\n",
       "      <td>00409699915b</td>\n",
       "      <td>Associated</td>\n",
       "      <td>Lib</td>\n",
       "      <td>2</td>\n",
       "      <td>7</td>\n",
       "      <td>Lib2</td>\n",
       "    </tr>\n",
       "    <tr>\n",
       "      <th>2289</th>\n",
       "      <td>987011713</td>\n",
       "      <td>LibBldg2AP7</td>\n",
       "      <td>Station 00409699915b Authenticated</td>\n",
       "      <td>00409699915b</td>\n",
       "      <td>Authenticated</td>\n",
       "      <td>Lib</td>\n",
       "      <td>2</td>\n",
       "      <td>7</td>\n",
       "      <td>Lib2</td>\n",
       "    </tr>\n",
       "    <tr>\n",
       "      <th>2290</th>\n",
       "      <td>987011713</td>\n",
       "      <td>LibBldg2AP7</td>\n",
       "      <td>Station 00409699915b Associated</td>\n",
       "      <td>00409699915b</td>\n",
       "      <td>Associated</td>\n",
       "      <td>Lib</td>\n",
       "      <td>2</td>\n",
       "      <td>7</td>\n",
       "      <td>Lib2</td>\n",
       "    </tr>\n",
       "    <tr>\n",
       "      <th>2291</th>\n",
       "      <td>987011714</td>\n",
       "      <td>LibBldg2AP7</td>\n",
       "      <td>Station 00409699915b Authenticated</td>\n",
       "      <td>00409699915b</td>\n",
       "      <td>Authenticated</td>\n",
       "      <td>Lib</td>\n",
       "      <td>2</td>\n",
       "      <td>7</td>\n",
       "      <td>Lib2</td>\n",
       "    </tr>\n",
       "    <tr>\n",
       "      <th>2292</th>\n",
       "      <td>987011714</td>\n",
       "      <td>LibBldg2AP7</td>\n",
       "      <td>Station 00409699915b Associated</td>\n",
       "      <td>00409699915b</td>\n",
       "      <td>Associated</td>\n",
       "      <td>Lib</td>\n",
       "      <td>2</td>\n",
       "      <td>7</td>\n",
       "      <td>Lib2</td>\n",
       "    </tr>\n",
       "    <tr>\n",
       "      <th>2437</th>\n",
       "      <td>987012025</td>\n",
       "      <td>LibBldg2AP7</td>\n",
       "      <td>Station 00409699915b Authenticated</td>\n",
       "      <td>00409699915b</td>\n",
       "      <td>Authenticated</td>\n",
       "      <td>Lib</td>\n",
       "      <td>2</td>\n",
       "      <td>7</td>\n",
       "      <td>Lib2</td>\n",
       "    </tr>\n",
       "    <tr>\n",
       "      <th>2438</th>\n",
       "      <td>987012025</td>\n",
       "      <td>LibBldg2AP7</td>\n",
       "      <td>Station 00409699915b Associated</td>\n",
       "      <td>00409699915b</td>\n",
       "      <td>Associated</td>\n",
       "      <td>Lib</td>\n",
       "      <td>2</td>\n",
       "      <td>7</td>\n",
       "      <td>Lib2</td>\n",
       "    </tr>\n",
       "    <tr>\n",
       "      <th>2439</th>\n",
       "      <td>987012026</td>\n",
       "      <td>LibBldg2AP7</td>\n",
       "      <td>Station 00409699915b Authenticated</td>\n",
       "      <td>00409699915b</td>\n",
       "      <td>Authenticated</td>\n",
       "      <td>Lib</td>\n",
       "      <td>2</td>\n",
       "      <td>7</td>\n",
       "      <td>Lib2</td>\n",
       "    </tr>\n",
       "    <tr>\n",
       "      <th>2440</th>\n",
       "      <td>987012026</td>\n",
       "      <td>LibBldg2AP7</td>\n",
       "      <td>Station 00409699915b Associated</td>\n",
       "      <td>00409699915b</td>\n",
       "      <td>Associated</td>\n",
       "      <td>Lib</td>\n",
       "      <td>2</td>\n",
       "      <td>7</td>\n",
       "      <td>Lib2</td>\n",
       "    </tr>\n",
       "    <tr>\n",
       "      <th>2705</th>\n",
       "      <td>987013855</td>\n",
       "      <td>LibBldg2AP7</td>\n",
       "      <td>Deauthenticating 00409699915b, reason \"Inactiv...</td>\n",
       "      <td>00409699915b</td>\n",
       "      <td>Deauthenticating</td>\n",
       "      <td>Lib</td>\n",
       "      <td>2</td>\n",
       "      <td>7</td>\n",
       "      <td>Lib2</td>\n",
       "    </tr>\n",
       "  </tbody>\n",
       "</table>\n",
       "<p>157 rows × 9 columns</p>\n",
       "</div>"
      ],
      "text/plain": [
       "      timestamp             AP  \\\n",
       "72    986992653  AcadBldg33AP1   \n",
       "73    986992653  AcadBldg33AP1   \n",
       "74    986992654  AcadBldg33AP1   \n",
       "75    986992654  AcadBldg33AP1   \n",
       "76    986992656  AcadBldg33AP1   \n",
       "77    986992656  AcadBldg33AP1   \n",
       "80    986992777  AcadBldg33AP6   \n",
       "81    986992777  AcadBldg33AP6   \n",
       "82    986992777  AcadBldg33AP1   \n",
       "86    986993050  AcadBldg33AP5   \n",
       "87    986993050  AcadBldg33AP5   \n",
       "88    986993050  AcadBldg33AP6   \n",
       "91    986993050  AcadBldg33AP5   \n",
       "111   986994928  AcadBldg33AP5   \n",
       "1171  987003728    LibBldg2AP7   \n",
       "1172  987003728    LibBldg2AP7   \n",
       "1173  987003734    LibBldg2AP7   \n",
       "1174  987003734    LibBldg2AP7   \n",
       "1187  987003775    LibBldg2AP7   \n",
       "1188  987003775    LibBldg2AP7   \n",
       "1201  987003778    LibBldg2AP7   \n",
       "1202  987003778    LibBldg2AP7   \n",
       "1205  987003779    LibBldg2AP7   \n",
       "1206  987003779    LibBldg2AP7   \n",
       "1207  987003796    LibBldg2AP7   \n",
       "1208  987003796    LibBldg2AP7   \n",
       "1288  987005618    LibBldg2AP7   \n",
       "1325  987006888    LibBldg2AP7   \n",
       "1326  987006888    LibBldg2AP7   \n",
       "1327  987006924    LibBldg2AP7   \n",
       "...         ...            ...   \n",
       "2002  987011242    LibBldg2AP7   \n",
       "2019  987011259    LibBldg2AP7   \n",
       "2020  987011259    LibBldg2AP7   \n",
       "2042  987011283    LibBldg2AP7   \n",
       "2043  987011283    LibBldg2AP7   \n",
       "2050  987011289    LibBldg2AP7   \n",
       "2051  987011289    LibBldg2AP7   \n",
       "2070  987011306    LibBldg2AP7   \n",
       "2071  987011306    LibBldg2AP7   \n",
       "2079  987011313    LibBldg2AP7   \n",
       "2080  987011313    LibBldg2AP7   \n",
       "2095  987011330    LibBldg2AP7   \n",
       "2096  987011330    LibBldg2AP7   \n",
       "2102  987011336    LibBldg2AP7   \n",
       "2103  987011336    LibBldg2AP7   \n",
       "2132  987011369    LibBldg2AP7   \n",
       "2133  987011369    LibBldg2AP7   \n",
       "2273  987011681    LibBldg2AP7   \n",
       "2274  987011681    LibBldg2AP7   \n",
       "2277  987011682    LibBldg2AP7   \n",
       "2278  987011682    LibBldg2AP7   \n",
       "2289  987011713    LibBldg2AP7   \n",
       "2290  987011713    LibBldg2AP7   \n",
       "2291  987011714    LibBldg2AP7   \n",
       "2292  987011714    LibBldg2AP7   \n",
       "2437  987012025    LibBldg2AP7   \n",
       "2438  987012025    LibBldg2AP7   \n",
       "2439  987012026    LibBldg2AP7   \n",
       "2440  987012026    LibBldg2AP7   \n",
       "2705  987013855    LibBldg2AP7   \n",
       "\n",
       "                                                message       Station  \\\n",
       "72                   Station 00409699915b Authenticated  00409699915b   \n",
       "73                      Station 00409699915b Associated  00409699915b   \n",
       "74                   Station 00409699915b Authenticated  00409699915b   \n",
       "75                      Station 00409699915b Associated  00409699915b   \n",
       "76                   Station 00409699915b Authenticated  00409699915b   \n",
       "77                      Station 00409699915b Associated  00409699915b   \n",
       "80                   Station 00409699915b Authenticated  00409699915b   \n",
       "81                      Station 00409699915b Associated  00409699915b   \n",
       "82                          Station 00409699915b roamed  00409699915b   \n",
       "86                   Station 00409699915b Authenticated  00409699915b   \n",
       "87                    Station 00409699915b Reassociated  00409699915b   \n",
       "88                          Station 00409699915b roamed  00409699915b   \n",
       "91                      Station 00409699915b Associated  00409699915b   \n",
       "111   Deauthenticating 00409699915b, reason \"Inactiv...  00409699915b   \n",
       "1171                 Station 00409699915b Authenticated  00409699915b   \n",
       "1172                    Station 00409699915b Associated  00409699915b   \n",
       "1173                 Station 00409699915b Authenticated  00409699915b   \n",
       "1174                    Station 00409699915b Associated  00409699915b   \n",
       "1187                 Station 00409699915b Authenticated  00409699915b   \n",
       "1188                    Station 00409699915b Associated  00409699915b   \n",
       "1201                 Station 00409699915b Authenticated  00409699915b   \n",
       "1202                    Station 00409699915b Associated  00409699915b   \n",
       "1205                 Station 00409699915b Authenticated  00409699915b   \n",
       "1206                    Station 00409699915b Associated  00409699915b   \n",
       "1207                 Station 00409699915b Authenticated  00409699915b   \n",
       "1208                    Station 00409699915b Associated  00409699915b   \n",
       "1288  Deauthenticating 00409699915b, reason \"Inactiv...  00409699915b   \n",
       "1325                 Station 00409699915b Authenticated  00409699915b   \n",
       "1326                    Station 00409699915b Associated  00409699915b   \n",
       "1327                 Station 00409699915b Authenticated  00409699915b   \n",
       "...                                                 ...           ...   \n",
       "2002                    Station 00409699915b Associated  00409699915b   \n",
       "2019                 Station 00409699915b Authenticated  00409699915b   \n",
       "2020                    Station 00409699915b Associated  00409699915b   \n",
       "2042                 Station 00409699915b Authenticated  00409699915b   \n",
       "2043                    Station 00409699915b Associated  00409699915b   \n",
       "2050                 Station 00409699915b Authenticated  00409699915b   \n",
       "2051                    Station 00409699915b Associated  00409699915b   \n",
       "2070                 Station 00409699915b Authenticated  00409699915b   \n",
       "2071                    Station 00409699915b Associated  00409699915b   \n",
       "2079                 Station 00409699915b Authenticated  00409699915b   \n",
       "2080                    Station 00409699915b Associated  00409699915b   \n",
       "2095                 Station 00409699915b Authenticated  00409699915b   \n",
       "2096                    Station 00409699915b Associated  00409699915b   \n",
       "2102                 Station 00409699915b Authenticated  00409699915b   \n",
       "2103                    Station 00409699915b Associated  00409699915b   \n",
       "2132                 Station 00409699915b Authenticated  00409699915b   \n",
       "2133                    Station 00409699915b Associated  00409699915b   \n",
       "2273                 Station 00409699915b Authenticated  00409699915b   \n",
       "2274                    Station 00409699915b Associated  00409699915b   \n",
       "2277                 Station 00409699915b Authenticated  00409699915b   \n",
       "2278                    Station 00409699915b Associated  00409699915b   \n",
       "2289                 Station 00409699915b Authenticated  00409699915b   \n",
       "2290                    Station 00409699915b Associated  00409699915b   \n",
       "2291                 Station 00409699915b Authenticated  00409699915b   \n",
       "2292                    Station 00409699915b Associated  00409699915b   \n",
       "2437                 Station 00409699915b Authenticated  00409699915b   \n",
       "2438                    Station 00409699915b Associated  00409699915b   \n",
       "2439                 Station 00409699915b Authenticated  00409699915b   \n",
       "2440                    Station 00409699915b Associated  00409699915b   \n",
       "2705  Deauthenticating 00409699915b, reason \"Inactiv...  00409699915b   \n",
       "\n",
       "                Action BuildingType BuildingNumber APnumber BuildingId  \n",
       "72       Authenticated         Acad             33        1     Acad33  \n",
       "73          Associated         Acad             33        1     Acad33  \n",
       "74       Authenticated         Acad             33        1     Acad33  \n",
       "75          Associated         Acad             33        1     Acad33  \n",
       "76       Authenticated         Acad             33        1     Acad33  \n",
       "77          Associated         Acad             33        1     Acad33  \n",
       "80       Authenticated         Acad             33        6     Acad33  \n",
       "81          Associated         Acad             33        6     Acad33  \n",
       "82              roamed         Acad             33        1     Acad33  \n",
       "86       Authenticated         Acad             33        5     Acad33  \n",
       "87        Reassociated         Acad             33        5     Acad33  \n",
       "88              roamed         Acad             33        6     Acad33  \n",
       "91          Associated         Acad             33        5     Acad33  \n",
       "111   Deauthenticating         Acad             33        5     Acad33  \n",
       "1171     Authenticated          Lib              2        7       Lib2  \n",
       "1172        Associated          Lib              2        7       Lib2  \n",
       "1173     Authenticated          Lib              2        7       Lib2  \n",
       "1174        Associated          Lib              2        7       Lib2  \n",
       "1187     Authenticated          Lib              2        7       Lib2  \n",
       "1188        Associated          Lib              2        7       Lib2  \n",
       "1201     Authenticated          Lib              2        7       Lib2  \n",
       "1202        Associated          Lib              2        7       Lib2  \n",
       "1205     Authenticated          Lib              2        7       Lib2  \n",
       "1206        Associated          Lib              2        7       Lib2  \n",
       "1207     Authenticated          Lib              2        7       Lib2  \n",
       "1208        Associated          Lib              2        7       Lib2  \n",
       "1288  Deauthenticating          Lib              2        7       Lib2  \n",
       "1325     Authenticated          Lib              2        7       Lib2  \n",
       "1326        Associated          Lib              2        7       Lib2  \n",
       "1327     Authenticated          Lib              2        7       Lib2  \n",
       "...                ...          ...            ...      ...        ...  \n",
       "2002        Associated          Lib              2        7       Lib2  \n",
       "2019     Authenticated          Lib              2        7       Lib2  \n",
       "2020        Associated          Lib              2        7       Lib2  \n",
       "2042     Authenticated          Lib              2        7       Lib2  \n",
       "2043        Associated          Lib              2        7       Lib2  \n",
       "2050     Authenticated          Lib              2        7       Lib2  \n",
       "2051        Associated          Lib              2        7       Lib2  \n",
       "2070     Authenticated          Lib              2        7       Lib2  \n",
       "2071        Associated          Lib              2        7       Lib2  \n",
       "2079     Authenticated          Lib              2        7       Lib2  \n",
       "2080        Associated          Lib              2        7       Lib2  \n",
       "2095     Authenticated          Lib              2        7       Lib2  \n",
       "2096        Associated          Lib              2        7       Lib2  \n",
       "2102     Authenticated          Lib              2        7       Lib2  \n",
       "2103        Associated          Lib              2        7       Lib2  \n",
       "2132     Authenticated          Lib              2        7       Lib2  \n",
       "2133        Associated          Lib              2        7       Lib2  \n",
       "2273     Authenticated          Lib              2        7       Lib2  \n",
       "2274        Associated          Lib              2        7       Lib2  \n",
       "2277     Authenticated          Lib              2        7       Lib2  \n",
       "2278        Associated          Lib              2        7       Lib2  \n",
       "2289     Authenticated          Lib              2        7       Lib2  \n",
       "2290        Associated          Lib              2        7       Lib2  \n",
       "2291     Authenticated          Lib              2        7       Lib2  \n",
       "2292        Associated          Lib              2        7       Lib2  \n",
       "2437     Authenticated          Lib              2        7       Lib2  \n",
       "2438        Associated          Lib              2        7       Lib2  \n",
       "2439     Authenticated          Lib              2        7       Lib2  \n",
       "2440        Associated          Lib              2        7       Lib2  \n",
       "2705  Deauthenticating          Lib              2        7       Lib2  \n",
       "\n",
       "[157 rows x 9 columns]"
      ]
     },
     "execution_count": 132,
     "metadata": {},
     "output_type": "execute_result"
    }
   ],
   "source": [
    "df.ix[df.Station == \"00409699915b\"]"
   ]
  },
  {
   "cell_type": "markdown",
   "metadata": {},
   "source": [
    "'Authenticaed' and 'Associated' are alwas concomitent.\n",
    "Roamed indicates which AP was left for the new."
   ]
  },
  {
   "cell_type": "code",
   "execution_count": 151,
   "metadata": {
    "collapsed": false
   },
   "outputs": [],
   "source": [
    "s = df.ix[df.Station == \"00409699915b\", 'timestamp']"
   ]
  },
  {
   "cell_type": "code",
   "execution_count": 195,
   "metadata": {
    "collapsed": false
   },
   "outputs": [],
   "source": [
    "s.sort_values(inplace=True)"
   ]
  },
  {
   "cell_type": "code",
   "execution_count": 154,
   "metadata": {
    "collapsed": true
   },
   "outputs": [],
   "source": [
    "import numpy as np"
   ]
  },
  {
   "cell_type": "code",
   "execution_count": 196,
   "metadata": {
    "collapsed": false
   },
   "outputs": [],
   "source": [
    "d = s.astype(np.int64).diff()"
   ]
  },
  {
   "cell_type": "code",
   "execution_count": 197,
   "metadata": {
    "collapsed": true
   },
   "outputs": [],
   "source": [
    "import matplotlib.pyplot as plt\n",
    "import seaborn as sns\n",
    "%matplotlib inline"
   ]
  },
  {
   "cell_type": "code",
   "execution_count": 198,
   "metadata": {
    "collapsed": false
   },
   "outputs": [
    {
     "data": {
      "image/png": "[encoded data removed]",
      "text/plain": [
       "<matplotlib.figure.Figure at 0x7fab15fd9d90>"
      ]
     },
     "metadata": {},
     "output_type": "display_data"
    }
   ],
   "source": [
    "pd.DataFrame(d).plot.hist(bins=100)\n",
    "#plt.ylim(0,10)\n",
    "plt.show()"
   ]
  },
  {
   "cell_type": "code",
   "execution_count": 199,
   "metadata": {
    "collapsed": true
   },
   "outputs": [],
   "source": [
    "d_filter = [x/3600 for x in d if x > 10]"
   ]
  },
  {
   "cell_type": "code",
   "execution_count": 200,
   "metadata": {
    "collapsed": false
   },
   "outputs": [
    {
     "data": {
      "image/png": "[encoded data removed]",
      "text/plain": [
       "<matplotlib.figure.Figure at 0x7fab166bb6d0>"
      ]
     },
     "metadata": {},
     "output_type": "display_data"
    }
   ],
   "source": [
    "pd.DataFrame(d_filter).plot.hist(bins=100)\n",
    "plt.xlabel='sec'\n",
    "plt.show()"
   ]
  },
  {
   "cell_type": "markdown",
   "metadata": {},
   "source": [
    "Most of the consecutive signals are less than 1 minute. But some breaks can got to half an hour."
   ]
  },
  {
   "cell_type": "code",
   "execution_count": 201,
   "metadata": {
    "collapsed": false
   },
   "outputs": [],
   "source": [
    "end = s[-1:].astype(np.int64)"
   ]
  },
  {
   "cell_type": "code",
   "execution_count": 202,
   "metadata": {
    "collapsed": false
   },
   "outputs": [],
   "source": [
    "start = s[:1].astype(np.int64)"
   ]
  },
  {
   "cell_type": "code",
   "execution_count": 204,
   "metadata": {
    "collapsed": false
   },
   "outputs": [
    {
     "data": {
      "text/plain": [
       "5"
      ]
     },
     "execution_count": 204,
     "metadata": {},
     "output_type": "execute_result"
    }
   ],
   "source": [
    "(int(end) - int(start))/3600"
   ]
  },
  {
   "cell_type": "markdown",
   "metadata": {},
   "source": [
    "The total session time is 5 hours."
   ]
  },
  {
   "cell_type": "code",
   "execution_count": null,
   "metadata": {
    "collapsed": true
   },
   "outputs": [],
   "source": []
  }
 ],
 "metadata": {
  "kernelspec": {
   "display_name": "Python 2",
   "language": "python",
   "name": "tensorflow"
  },
  "language_info": {
   "codemirror_mode": {
    "name": "ipython",
    "version": 2
   },
   "file_extension": ".py",
   "mimetype": "text/x-python",
   "name": "python",
   "nbconvert_exporter": "python",
   "pygments_lexer": "ipython2",
   "version": "2.7.12"
  }
 },
 "nbformat": 4,
 "nbformat_minor": 0
}
